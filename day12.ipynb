{
 "cells": [
  {
   "cell_type": "code",
   "execution_count": 12,
   "metadata": {
    "execution": {
     "iopub.execute_input": "2020-12-16T10:53:18.258254Z",
     "iopub.status.busy": "2020-12-16T10:53:18.257894Z",
     "iopub.status.idle": "2020-12-16T10:53:18.263725Z",
     "shell.execute_reply": "2020-12-16T10:53:18.262582Z",
     "shell.execute_reply.started": "2020-12-16T10:53:18.258221Z"
    }
   },
   "outputs": [],
   "source": [
    "instructions = []\n",
    "with open(\"day12.txt\") as d:\n",
    "    # d = \"F10\\nN3\\nF7\\nR90\\nF11\".split(\"\\n\")\n",
    "    for l in d:\n",
    "        instructions.append((l[0], int(l[1:])))"
   ]
  },
  {
   "cell_type": "code",
   "execution_count": 13,
   "metadata": {
    "execution": {
     "iopub.execute_input": "2020-12-16T10:53:18.709385Z",
     "iopub.status.busy": "2020-12-16T10:53:18.707866Z",
     "iopub.status.idle": "2020-12-16T10:53:18.747609Z",
     "shell.execute_reply": "2020-12-16T10:53:18.746129Z",
     "shell.execute_reply.started": "2020-12-16T10:53:18.709220Z"
    }
   },
   "outputs": [
    {
     "name": "stdout",
     "output_type": "stream",
     "text": [
      "Positie: (700, -1256); Afstand: 1956\n"
     ]
    }
   ],
   "source": [
    "p = (0, 0)\n",
    "direction = (1, 0)\n",
    "move = {\n",
    "    'N': (0, 1),\n",
    "    'S': (0, -1),\n",
    "    'E': (1, 0),\n",
    "    'W': (-1, 0),\n",
    "}\n",
    "\n",
    "for i, c in instructions:\n",
    "    x, y = p\n",
    "    if i in move:\n",
    "        dx, dy = move[i]\n",
    "        p = (x+c*dx, y+c*dy)\n",
    "    elif i == \"F\":\n",
    "        dx, dy = direction\n",
    "        p = (x+c*dx, y+c*dy)\n",
    "    elif i in \"RL\":\n",
    "        if i == 'R':\n",
    "            c = 360 - c\n",
    "        dx, dy = direction\n",
    "        while c > 0:\n",
    "            dx, dy = -dy, dx\n",
    "            c -= 90\n",
    "        direction = (dx, dy)\n",
    "\n",
    "print(f\"Positie: {p}; Afstand: {sum(map(abs, p))}\")"
   ]
  },
  {
   "cell_type": "code",
   "execution_count": 15,
   "metadata": {
    "execution": {
     "iopub.execute_input": "2020-12-16T10:53:22.542660Z",
     "iopub.status.busy": "2020-12-16T10:53:22.542286Z",
     "iopub.status.idle": "2020-12-16T10:53:22.573541Z",
     "shell.execute_reply": "2020-12-16T10:53:22.572358Z",
     "shell.execute_reply.started": "2020-12-16T10:53:22.542625Z"
    }
   },
   "outputs": [
    {
     "name": "stdout",
     "output_type": "stream",
     "text": [
      "Positie: (91964, -34833); Afstand: 126797\n"
     ]
    }
   ],
   "source": [
    "p = (0, 0)\n",
    "wp = (10, 1)\n",
    "\n",
    "move = {\n",
    "    'N': (0, 1),\n",
    "    'S': (0, -1),\n",
    "    'E': (1, 0),\n",
    "    'W': (-1, 0),\n",
    "}\n",
    "\n",
    "for i, c in instructions:\n",
    "    x, y = p\n",
    "    wx, wy = wp\n",
    "    if i in move:\n",
    "        dx, dy = move[i]\n",
    "        wp = (wx+c*dx, wy+c*dy)\n",
    "    elif i == \"F\":\n",
    "        dx, dy = direction\n",
    "        p = (x+c*(wx-x), y+c*(wy-y))\n",
    "        wp = (p[0]+(wx-x), p[1]+(wy-y))\n",
    "    elif i in \"RL\":\n",
    "        if i == 'R':\n",
    "            c = 360 - c\n",
    "        wx -= x\n",
    "        wy -= y\n",
    "        while c > 0:\n",
    "            wx, wy = -wy, wx\n",
    "            c -= 90\n",
    "        wp = (x+wx, y+wy)\n",
    "\n",
    "print(f\"Positie: {p}; Afstand: {sum(map(abs, p))}\")"
   ]
  },
  {
   "cell_type": "code",
   "execution_count": null,
   "metadata": {},
   "outputs": [],
   "source": []
  }
 ],
 "metadata": {
  "kernelspec": {
   "display_name": "Python 3",
   "language": "python",
   "name": "python3"
  },
  "language_info": {
   "codemirror_mode": {
    "name": "ipython",
    "version": 3
   },
   "file_extension": ".py",
   "mimetype": "text/x-python",
   "name": "python",
   "nbconvert_exporter": "python",
   "pygments_lexer": "ipython3",
   "version": "3.8.5"
  }
 },
 "nbformat": 4,
 "nbformat_minor": 4
}
