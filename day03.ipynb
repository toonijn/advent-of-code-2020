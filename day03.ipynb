{
 "cells": [
  {
   "cell_type": "code",
   "execution_count": 11,
   "metadata": {
    "execution": {
     "iopub.execute_input": "2020-12-14T09:50:56.997629Z",
     "iopub.status.busy": "2020-12-14T09:50:56.996399Z",
     "iopub.status.idle": "2020-12-14T09:50:57.013850Z",
     "shell.execute_reply": "2020-12-14T09:50:57.010375Z",
     "shell.execute_reply.started": "2020-12-14T09:50:56.997455Z"
    }
   },
   "outputs": [],
   "source": [
    "with open(\"day3.txt\") as d:\n",
    "    data = list(map(str.strip, d))"
   ]
  },
  {
   "cell_type": "code",
   "execution_count": 9,
   "metadata": {
    "execution": {
     "iopub.execute_input": "2020-12-14T09:47:20.181108Z",
     "iopub.status.busy": "2020-12-14T09:47:20.179818Z",
     "iopub.status.idle": "2020-12-14T09:47:20.210091Z",
     "shell.execute_reply": "2020-12-14T09:47:20.207520Z",
     "shell.execute_reply.started": "2020-12-14T09:47:20.180937Z"
    }
   },
   "outputs": [
    {
     "data": {
      "text/plain": [
       "286"
      ]
     },
     "execution_count": 9,
     "metadata": {},
     "output_type": "execute_result"
    }
   ],
   "source": [
    "def check_slope(x, y):\n",
    "    start = 0\n",
    "    trees = 0\n",
    "    for line in data[::y]:\n",
    "        if line[start%len(line)] == \"#\":\n",
    "            trees += 1\n",
    "        start += x\n",
    "    return trees\n",
    "check_slope(3, 1)"
   ]
  },
  {
   "cell_type": "code",
   "execution_count": 10,
   "metadata": {
    "execution": {
     "iopub.execute_input": "2020-12-14T09:48:04.216896Z",
     "iopub.status.busy": "2020-12-14T09:48:04.216441Z",
     "iopub.status.idle": "2020-12-14T09:48:04.224170Z",
     "shell.execute_reply": "2020-12-14T09:48:04.223520Z",
     "shell.execute_reply.started": "2020-12-14T09:48:04.216839Z"
    }
   },
   "outputs": [
    {
     "data": {
      "text/plain": [
       "3638606400"
      ]
     },
     "execution_count": 10,
     "metadata": {},
     "output_type": "execute_result"
    }
   ],
   "source": [
    "p = 1\n",
    "for slope in [(1,1), (3, 1), (5, 1), (7, 1), (1, 2)]:\n",
    "    p *= check_slope(*slope)\n",
    "p"
   ]
  },
  {
   "cell_type": "code",
   "execution_count": null,
   "metadata": {},
   "outputs": [],
   "source": []
  }
 ],
 "metadata": {
  "kernelspec": {
   "display_name": "SageMath 9.1",
   "language": "sage",
   "name": "sagemath"
  },
  "language_info": {
   "codemirror_mode": {
    "name": "ipython",
    "version": 3
   },
   "file_extension": ".py",
   "mimetype": "text/x-python",
   "name": "python",
   "nbconvert_exporter": "python",
   "pygments_lexer": "ipython3",
   "version": "3.7.9"
  }
 },
 "nbformat": 4,
 "nbformat_minor": 4
}
