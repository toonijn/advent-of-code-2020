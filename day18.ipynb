{
 "cells": [
  {
   "cell_type": "code",
   "execution_count": 100,
   "metadata": {
    "execution": {
     "iopub.execute_input": "2020-12-18T18:13:34.721875Z",
     "iopub.status.busy": "2020-12-18T18:13:34.720996Z",
     "iopub.status.idle": "2020-12-18T18:13:34.758862Z",
     "shell.execute_reply": "2020-12-18T18:13:34.756194Z",
     "shell.execute_reply.started": "2020-12-18T18:13:34.721793Z"
    }
   },
   "outputs": [],
   "source": [
    "import re\n",
    "import string\n",
    "\n",
    "operators = {\n",
    "    '+': (1, lambda a, b: a + b),\n",
    "    '*': (2, lambda a, b: a * b) # 1 for part 1, 2 for part 2\n",
    "}\n",
    "\n",
    "operators_by_precedence = [\n",
    "        {o: f for o, (p, f) in operators.items() if p == i}\n",
    "    for i in sorted(set(v[0] for v in operators.values()))\n",
    "]\n",
    "\n",
    "def tokenize(expr, i=0):\n",
    "    tokens = []\n",
    "    while i < len(expr):\n",
    "        if expr[i].isspace():\n",
    "            i += 1\n",
    "        elif expr[i] == '(':\n",
    "            i, value = tokenize(expr, i+1)\n",
    "            tokens.append(value)\n",
    "            assert expr[i] == ')', 'invalid syntax'\n",
    "            i += 1\n",
    "        elif m := re.search('^[0-9]+', expr[i:]):\n",
    "            tokens.append(int(m.group()))\n",
    "            i += len(m.group())\n",
    "        elif expr[i] in operators:\n",
    "            tokens.append(expr[i])\n",
    "            i += 1\n",
    "        else:\n",
    "            break\n",
    "    return i, tokens\n",
    "\n",
    "def tokens2ast(tokens):\n",
    "    tokens = list(tokens)\n",
    "    \n",
    "    for i, token in enumerate(tokens):\n",
    "        if isinstance(token, list):\n",
    "            tokens[i] = tokens2ast(token)\n",
    "    \n",
    "    for operators in operators_by_precedence:\n",
    "        i = 0\n",
    "        while i < len(tokens):\n",
    "            if tokens[i] in operators:\n",
    "                node = (tokens[i], tokens[i-1], tokens[i+1])\n",
    "                tokens = tokens[:i-1] + [node] + tokens[i+2:]\n",
    "            else:\n",
    "                i += 1\n",
    "    \n",
    "    assert len(tokens) == 1, 'invalid syntax'\n",
    "    return tokens[0]\n",
    "\n",
    "def parse(expr):\n",
    "    i, tokens = tokenize(expr)\n",
    "    assert i == len(expr), 'not everything was parsed'\n",
    "    return tokens2ast(tokens)\n",
    "\n",
    "def eval_ast(ast):\n",
    "    if isinstance(ast, int):\n",
    "        return ast\n",
    "    op, a, b = ast\n",
    "    a = eval_ast(a)\n",
    "    b = eval_ast(b)\n",
    "    \n",
    "    assert op in operators, 'invalid operator'\n",
    "    \n",
    "    return operators[op][1](a, b)\n",
    "    \n",
    "    \n",
    "def parse_eval(expr):\n",
    "    ast = parse(expr)\n",
    "    return eval_ast(ast)"
   ]
  },
  {
   "cell_type": "code",
   "execution_count": 101,
   "metadata": {
    "execution": {
     "iopub.execute_input": "2020-12-18T18:13:41.057450Z",
     "iopub.status.busy": "2020-12-18T18:13:41.056731Z",
     "iopub.status.idle": "2020-12-18T18:13:41.071365Z",
     "shell.execute_reply": "2020-12-18T18:13:41.068006Z",
     "shell.execute_reply.started": "2020-12-18T18:13:41.057383Z"
    }
   },
   "outputs": [
    {
     "data": {
      "text/plain": [
       "23340"
      ]
     },
     "execution_count": 101,
     "metadata": {},
     "output_type": "execute_result"
    }
   ],
   "source": [
    "parse_eval('((2 + 4 * 9) * (6 + 9 * 8 + 6) + 6) + 2 + 4 * 2')"
   ]
  },
  {
   "cell_type": "code",
   "execution_count": 102,
   "metadata": {
    "execution": {
     "iopub.execute_input": "2020-12-18T18:13:42.059299Z",
     "iopub.status.busy": "2020-12-18T18:13:42.058440Z",
     "iopub.status.idle": "2020-12-18T18:13:42.162322Z",
     "shell.execute_reply": "2020-12-18T18:13:42.159698Z",
     "shell.execute_reply.started": "2020-12-18T18:13:42.059190Z"
    }
   },
   "outputs": [
    {
     "name": "stdout",
     "output_type": "stream",
     "text": [
      "360029542265462\n"
     ]
    }
   ],
   "source": [
    "with open('day18.txt') as d:\n",
    "    s = 0\n",
    "    for l in d:\n",
    "        s += parse_eval(l)\n",
    "    print(s)"
   ]
  },
  {
   "cell_type": "code",
   "execution_count": null,
   "metadata": {},
   "outputs": [],
   "source": []
  }
 ],
 "metadata": {
  "kernelspec": {
   "display_name": "Python 3",
   "language": "python",
   "name": "python3"
  },
  "language_info": {
   "codemirror_mode": {
    "name": "ipython",
    "version": 3
   },
   "file_extension": ".py",
   "mimetype": "text/x-python",
   "name": "python",
   "nbconvert_exporter": "python",
   "pygments_lexer": "ipython3",
   "version": "3.8.5"
  }
 },
 "nbformat": 4,
 "nbformat_minor": 4
}
