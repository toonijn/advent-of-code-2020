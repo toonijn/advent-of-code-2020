{
 "cells": [
  {
   "cell_type": "code",
   "execution_count": 161,
   "metadata": {
    "execution": {
     "iopub.execute_input": "2020-12-17T10:03:19.176761Z",
     "iopub.status.busy": "2020-12-17T10:03:19.175877Z",
     "iopub.status.idle": "2020-12-17T10:03:19.198948Z",
     "shell.execute_reply": "2020-12-17T10:03:19.195708Z",
     "shell.execute_reply.started": "2020-12-17T10:03:19.176678Z"
    }
   },
   "outputs": [
    {
     "data": {
      "text/plain": [
       "array([[[0, 0, 1, 1, 0, 1, 0, 1],\n",
       "        [1, 1, 0, 0, 0, 0, 1, 0],\n",
       "        [0, 0, 0, 0, 1, 1, 1, 1],\n",
       "        [1, 0, 0, 1, 1, 0, 0, 0],\n",
       "        [1, 0, 0, 1, 0, 1, 1, 0],\n",
       "        [0, 1, 0, 0, 1, 0, 0, 0],\n",
       "        [1, 1, 0, 0, 0, 1, 1, 0],\n",
       "        [0, 1, 0, 0, 0, 1, 0, 0]]])"
      ]
     },
     "execution_count": 161,
     "metadata": {},
     "output_type": "execute_result"
    }
   ],
   "source": [
    "import numpy as np\n",
    "\n",
    "with open(\"day17.txt\") as d:\n",
    "    # d = \".#.\\n..#\\n###\".split(\"\\n\")\n",
    "    cube = np.array([[[0 if c == '.' else 1 for c in r.strip()] for r in d]])\n",
    "cube"
   ]
  },
  {
   "cell_type": "code",
   "execution_count": 164,
   "metadata": {
    "execution": {
     "iopub.execute_input": "2020-12-17T10:03:31.948397Z",
     "iopub.status.busy": "2020-12-17T10:03:31.947148Z",
     "iopub.status.idle": "2020-12-17T10:03:31.967529Z",
     "shell.execute_reply": "2020-12-17T10:03:31.965045Z",
     "shell.execute_reply.started": "2020-12-17T10:03:31.948272Z"
    }
   },
   "outputs": [],
   "source": [
    "kernel = np.ones((3,3,3))\n",
    "kernel[1,1,1] = 0\n",
    "\n",
    "from scipy.ndimage import convolve\n",
    "\n",
    "def grow(a):\n",
    "    x, y, z = a.shape\n",
    "    r = np.zeros((x+2, y+2, z+2))\n",
    "    r[1:-1, 1:-1, 1:-1] = a\n",
    "    return r\n",
    "\n",
    "def step(a):\n",
    "    original = grow(a)\n",
    "    counts = convolve(original, kernel, mode='constant', cval=0)\n",
    "    \n",
    "    return np.where(np.logical_or(np.logical_and(counts == 2, original == 1), counts == 3), 1, 0)\n",
    "    "
   ]
  },
  {
   "cell_type": "code",
   "execution_count": 165,
   "metadata": {
    "execution": {
     "iopub.execute_input": "2020-12-17T10:03:32.548910Z",
     "iopub.status.busy": "2020-12-17T10:03:32.547767Z",
     "iopub.status.idle": "2020-12-17T10:03:32.569352Z",
     "shell.execute_reply": "2020-12-17T10:03:32.566286Z",
     "shell.execute_reply.started": "2020-12-17T10:03:32.548817Z"
    }
   },
   "outputs": [
    {
     "data": {
      "text/plain": [
       "202"
      ]
     },
     "execution_count": 165,
     "metadata": {},
     "output_type": "execute_result"
    }
   ],
   "source": [
    "next_step = cube\n",
    "for _ in range(6):\n",
    "    next_step = step(next_step)\n",
    "\n",
    "np.sum(next_step)"
   ]
  },
  {
   "cell_type": "code",
   "execution_count": null,
   "metadata": {},
   "outputs": [],
   "source": []
  },
  {
   "cell_type": "code",
   "execution_count": 177,
   "metadata": {
    "execution": {
     "iopub.execute_input": "2020-12-17T10:04:29.279518Z",
     "iopub.status.busy": "2020-12-17T10:04:29.278243Z",
     "iopub.status.idle": "2020-12-17T10:04:29.299726Z",
     "shell.execute_reply": "2020-12-17T10:04:29.296373Z",
     "shell.execute_reply.started": "2020-12-17T10:04:29.279394Z"
    }
   },
   "outputs": [
    {
     "data": {
      "text/plain": [
       "array([[[[0, 0, 1, 1, 0, 1, 0, 1],\n",
       "         [1, 1, 0, 0, 0, 0, 1, 0],\n",
       "         [0, 0, 0, 0, 1, 1, 1, 1],\n",
       "         [1, 0, 0, 1, 1, 0, 0, 0],\n",
       "         [1, 0, 0, 1, 0, 1, 1, 0],\n",
       "         [0, 1, 0, 0, 1, 0, 0, 0],\n",
       "         [1, 1, 0, 0, 0, 1, 1, 0],\n",
       "         [0, 1, 0, 0, 0, 1, 0, 0]]]])"
      ]
     },
     "execution_count": 177,
     "metadata": {},
     "output_type": "execute_result"
    }
   ],
   "source": [
    "import numpy as np\n",
    "\n",
    "with open(\"day17.txt\") as d:\n",
    "    # d = \".#.\\n..#\\n###\".split(\"\\n\")\n",
    "    cube = np.array([[[[0 if c == '.' else 1 for c in r.strip()] for r in d]]])\n",
    "cube"
   ]
  },
  {
   "cell_type": "code",
   "execution_count": 178,
   "metadata": {
    "execution": {
     "iopub.execute_input": "2020-12-17T10:04:29.536261Z",
     "iopub.status.busy": "2020-12-17T10:04:29.535880Z",
     "iopub.status.idle": "2020-12-17T10:04:29.544711Z",
     "shell.execute_reply": "2020-12-17T10:04:29.542873Z",
     "shell.execute_reply.started": "2020-12-17T10:04:29.536225Z"
    }
   },
   "outputs": [],
   "source": [
    "kernel = np.ones((3,3,3,3))\n",
    "kernel[1,1,1,1] = 0\n",
    "\n",
    "from scipy.ndimage import convolve\n",
    "\n",
    "def grow(a):\n",
    "    x, y, z, w = a.shape\n",
    "    r = np.zeros((x+2, y+2, z+2, w+2))\n",
    "    r[1:-1, 1:-1, 1:-1, 1:-1] = a\n",
    "    return r\n",
    "\n",
    "def step(a):\n",
    "    original = grow(a)\n",
    "    counts = convolve(original, kernel, mode='constant', cval=0)\n",
    "    \n",
    "    return np.where(np.logical_or(np.logical_and(counts == 2, original == 1), counts == 3), 1, 0)\n",
    "    "
   ]
  },
  {
   "cell_type": "code",
   "execution_count": 179,
   "metadata": {
    "execution": {
     "iopub.execute_input": "2020-12-17T10:04:29.785105Z",
     "iopub.status.busy": "2020-12-17T10:04:29.783942Z",
     "iopub.status.idle": "2020-12-17T10:04:29.862755Z",
     "shell.execute_reply": "2020-12-17T10:04:29.859995Z",
     "shell.execute_reply.started": "2020-12-17T10:04:29.784999Z"
    }
   },
   "outputs": [
    {
     "data": {
      "text/plain": [
       "2028"
      ]
     },
     "execution_count": 179,
     "metadata": {},
     "output_type": "execute_result"
    }
   ],
   "source": [
    "next_step = cube\n",
    "for _ in range(6):\n",
    "    next_step = step(next_step)\n",
    "\n",
    "np.sum(next_step)"
   ]
  },
  {
   "cell_type": "code",
   "execution_count": null,
   "metadata": {},
   "outputs": [],
   "source": []
  }
 ],
 "metadata": {
  "kernelspec": {
   "display_name": "Python 3",
   "language": "python",
   "name": "python3"
  },
  "language_info": {
   "codemirror_mode": {
    "name": "ipython",
    "version": 3
   },
   "file_extension": ".py",
   "mimetype": "text/x-python",
   "name": "python",
   "nbconvert_exporter": "python",
   "pygments_lexer": "ipython3",
   "version": "3.8.5"
  }
 },
 "nbformat": 4,
 "nbformat_minor": 4
}
