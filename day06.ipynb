{
 "cells": [
  {
   "cell_type": "code",
   "execution_count": 39,
   "metadata": {
    "execution": {
     "iopub.execute_input": "2020-12-14T10:16:30.978488Z",
     "iopub.status.busy": "2020-12-14T10:16:30.977818Z",
     "iopub.status.idle": "2020-12-14T10:16:31.008065Z",
     "shell.execute_reply": "2020-12-14T10:16:31.006434Z",
     "shell.execute_reply.started": "2020-12-14T10:16:30.978406Z"
    }
   },
   "outputs": [],
   "source": [
    "answers = []\n",
    "with open(\"day6.txt\") as d:\n",
    "    for group in d.read().split('\\n\\n'):\n",
    "        answers.append(list(filter(lambda a:a, map(set, group.split('\\n')))))"
   ]
  },
  {
   "cell_type": "code",
   "execution_count": 40,
   "metadata": {
    "execution": {
     "iopub.execute_input": "2020-12-14T10:16:32.030900Z",
     "iopub.status.busy": "2020-12-14T10:16:32.030526Z",
     "iopub.status.idle": "2020-12-14T10:16:32.040130Z",
     "shell.execute_reply": "2020-12-14T10:16:32.038978Z",
     "shell.execute_reply.started": "2020-12-14T10:16:32.030866Z"
    }
   },
   "outputs": [
    {
     "data": {
      "text/plain": [
       "6534"
      ]
     },
     "execution_count": 40,
     "metadata": {},
     "output_type": "execute_result"
    }
   ],
   "source": [
    "from functools import reduce\n",
    "\n",
    "sum(len(reduce(lambda a, b: a | b, group)) for group in answers)"
   ]
  },
  {
   "cell_type": "code",
   "execution_count": 41,
   "metadata": {
    "execution": {
     "iopub.execute_input": "2020-12-14T10:16:32.579237Z",
     "iopub.status.busy": "2020-12-14T10:16:32.578084Z",
     "iopub.status.idle": "2020-12-14T10:16:32.614868Z",
     "shell.execute_reply": "2020-12-14T10:16:32.611681Z",
     "shell.execute_reply.started": "2020-12-14T10:16:32.579128Z"
    }
   },
   "outputs": [
    {
     "data": {
      "text/plain": [
       "3402"
      ]
     },
     "execution_count": 41,
     "metadata": {},
     "output_type": "execute_result"
    }
   ],
   "source": [
    "sum(len(reduce(lambda a, b: a & b, group)) for group in answers)"
   ]
  },
  {
   "cell_type": "code",
   "execution_count": null,
   "metadata": {},
   "outputs": [],
   "source": []
  }
 ],
 "metadata": {
  "kernelspec": {
   "display_name": "Python 3",
   "language": "python",
   "name": "python3"
  },
  "language_info": {
   "codemirror_mode": {
    "name": "ipython",
    "version": 3
   },
   "file_extension": ".py",
   "mimetype": "text/x-python",
   "name": "python",
   "nbconvert_exporter": "python",
   "pygments_lexer": "ipython3",
   "version": "3.8.5"
  }
 },
 "nbformat": 4,
 "nbformat_minor": 4
}
