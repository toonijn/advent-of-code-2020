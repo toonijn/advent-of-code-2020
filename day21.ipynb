{
 "cells": [
  {
   "cell_type": "code",
   "execution_count": 4,
   "metadata": {
    "execution": {
     "iopub.execute_input": "2020-12-23T13:03:06.799457Z",
     "iopub.status.busy": "2020-12-23T13:03:06.798495Z",
     "iopub.status.idle": "2020-12-23T13:03:06.826448Z",
     "shell.execute_reply": "2020-12-23T13:03:06.824230Z",
     "shell.execute_reply.started": "2020-12-23T13:03:06.799369Z"
    }
   },
   "outputs": [],
   "source": [
    "from functools import reduce\n",
    "\n",
    "items = []\n",
    "\n",
    "with open('day21.txt') as d:\n",
    "    for line in d:\n",
    "        if '(' in line:\n",
    "            ingredients, alergens = line.split(' (contains ')\n",
    "            items.append((set(ingredients.split(' ')), set(alergens[:-2].split(', '))))\n",
    "\n",
    "all_allergens = reduce(lambda a, b: a | b, list(zip(*items))[1], set())\n",
    "all_ingredients = {}\n",
    "for ingredient in reduce(lambda a, b: a | b, list(zip(*items))[0], set()):\n",
    "    allergen = set(all_allergens)\n",
    "    for ingredients, allergens in items:\n",
    "        if ingredient not in ingredients:\n",
    "            allergen -= allergens\n",
    "    all_ingredients[ingredient] = allergen"
   ]
  },
  {
   "cell_type": "code",
   "execution_count": 5,
   "metadata": {
    "execution": {
     "iopub.execute_input": "2020-12-23T13:03:07.464831Z",
     "iopub.status.busy": "2020-12-23T13:03:07.463652Z",
     "iopub.status.idle": "2020-12-23T13:03:07.507672Z",
     "shell.execute_reply": "2020-12-23T13:03:07.505448Z",
     "shell.execute_reply.started": "2020-12-23T13:03:07.464717Z"
    }
   },
   "outputs": [
    {
     "data": {
      "text/plain": [
       "2170"
      ]
     },
     "execution_count": 5,
     "metadata": {},
     "output_type": "execute_result"
    }
   ],
   "source": [
    "count = 0\n",
    "for ingredient, allergen in all_ingredients.items():\n",
    "    if not allergen:\n",
    "        for ingredients, _ in items:\n",
    "            if ingredient in ingredients:\n",
    "                count += 1\n",
    "count"
   ]
  },
  {
   "cell_type": "code",
   "execution_count": 12,
   "metadata": {
    "execution": {
     "iopub.execute_input": "2020-12-23T13:04:33.411587Z",
     "iopub.status.busy": "2020-12-23T13:04:33.410294Z",
     "iopub.status.idle": "2020-12-23T13:04:33.432776Z",
     "shell.execute_reply": "2020-12-23T13:04:33.429194Z",
     "shell.execute_reply.started": "2020-12-23T13:04:33.411493Z"
    }
   },
   "outputs": [
    {
     "name": "stdout",
     "output_type": "stream",
     "text": [
      "nfnfk,nbgklf,clvr,fttbhdr,qjxxpr,hdsm,sjhds,xchzh\n"
     ]
    }
   ],
   "source": [
    "dangerous = {k: v for k, v in all_ingredients.items() if v}\n",
    "\n",
    "found = {}\n",
    "\n",
    "while l := [(k,v) for k, v in dangerous.items() if len(v) == 1]:\n",
    "    ingredient, allergen = l[0]\n",
    "    allergen = next(iter(allergen))\n",
    "    del dangerous[ingredient]\n",
    "    found[ingredient] = allergen\n",
    "    for v in dangerous.values():\n",
    "        v.discard(allergen)\n",
    "\n",
    "print(','.join(list(zip(*sorted(map(list, map(reversed, found.items())))))[1]))"
   ]
  },
  {
   "cell_type": "code",
   "execution_count": null,
   "metadata": {},
   "outputs": [],
   "source": []
  }
 ],
 "metadata": {
  "kernelspec": {
   "display_name": "Python 3",
   "language": "python",
   "name": "python3"
  },
  "language_info": {
   "codemirror_mode": {
    "name": "ipython",
    "version": 3
   },
   "file_extension": ".py",
   "mimetype": "text/x-python",
   "name": "python",
   "nbconvert_exporter": "python",
   "pygments_lexer": "ipython3",
   "version": "3.8.5"
  }
 },
 "nbformat": 4,
 "nbformat_minor": 4
}
