{
 "cells": [
  {
   "cell_type": "code",
   "execution_count": 29,
   "metadata": {
    "execution": {
     "iopub.execute_input": "2020-12-25T12:07:35.540764Z",
     "iopub.status.busy": "2020-12-25T12:07:35.539788Z",
     "iopub.status.idle": "2020-12-25T12:07:35.557539Z",
     "shell.execute_reply": "2020-12-25T12:07:35.554222Z",
     "shell.execute_reply.started": "2020-12-25T12:07:35.540683Z"
    }
   },
   "outputs": [],
   "source": [
    "directions = [\n",
    "    ('nw', (0, 1)),\n",
    "    ('ne', (1, 1)),\n",
    "    ('sw', (-1, -1)),\n",
    "    ('se', (0, -1)),\n",
    "    ('e', (1, 0)),\n",
    "    ('w', (-1, 0)),\n",
    "]\n",
    "\n",
    "def tile(s):\n",
    "    x, y = 0, 0\n",
    "    while s:\n",
    "        for direction, (dx, dy) in directions:\n",
    "            if s.startswith(direction):\n",
    "                x += dx\n",
    "                y += dy\n",
    "                s = s[len(direction):]\n",
    "                break\n",
    "        else:\n",
    "            assert False, f\"Not a valid tile found: {s}\"\n",
    "    return x, y\n"
   ]
  },
  {
   "cell_type": "code",
   "execution_count": 37,
   "metadata": {
    "execution": {
     "iopub.execute_input": "2020-12-25T12:10:07.157367Z",
     "iopub.status.busy": "2020-12-25T12:10:07.156073Z",
     "iopub.status.idle": "2020-12-25T12:10:09.488080Z",
     "shell.execute_reply": "2020-12-25T12:10:09.487243Z",
     "shell.execute_reply.started": "2020-12-25T12:10:07.157244Z"
    }
   },
   "outputs": [
    {
     "name": "stdout",
     "output_type": "stream",
     "text": [
      "Day 0: 386\n",
      "Day 1: 419\n",
      "Day 2: 345\n",
      "Day 3: 371\n",
      "Day 4: 406\n",
      "Day 5: 409\n",
      "Day 6: 481\n",
      "Day 7: 464\n",
      "Day 8: 478\n",
      "Day 9: 496\n",
      "Day 10: 524\n",
      "Day 11: 539\n",
      "Day 12: 601\n",
      "Day 13: 546\n",
      "Day 14: 613\n",
      "Day 15: 598\n",
      "Day 16: 666\n",
      "Day 17: 641\n",
      "Day 18: 645\n",
      "Day 19: 694\n",
      "Day 20: 768\n",
      "Day 21: 803\n",
      "Day 22: 791\n",
      "Day 23: 839\n",
      "Day 24: 832\n",
      "Day 25: 952\n",
      "Day 26: 945\n",
      "Day 27: 946\n",
      "Day 28: 912\n",
      "Day 29: 915\n",
      "Day 30: 978\n",
      "Day 31: 1032\n",
      "Day 32: 1075\n",
      "Day 33: 1102\n",
      "Day 34: 1189\n",
      "Day 35: 1192\n",
      "Day 36: 1167\n",
      "Day 37: 1269\n",
      "Day 38: 1281\n",
      "Day 39: 1304\n",
      "Day 40: 1300\n",
      "Day 41: 1335\n",
      "Day 42: 1477\n",
      "Day 43: 1350\n",
      "Day 44: 1484\n",
      "Day 45: 1473\n",
      "Day 46: 1561\n",
      "Day 47: 1629\n",
      "Day 48: 1565\n",
      "Day 49: 1677\n",
      "Day 50: 1699\n",
      "Day 51: 1705\n",
      "Day 52: 1724\n",
      "Day 53: 1793\n",
      "Day 54: 1851\n",
      "Day 55: 1874\n",
      "Day 56: 1859\n",
      "Day 57: 2004\n",
      "Day 58: 1946\n",
      "Day 59: 2030\n",
      "Day 60: 2045\n",
      "Day 61: 2090\n",
      "Day 62: 2119\n",
      "Day 63: 2150\n",
      "Day 64: 2169\n",
      "Day 65: 2217\n",
      "Day 66: 2289\n",
      "Day 67: 2381\n",
      "Day 68: 2372\n",
      "Day 69: 2511\n",
      "Day 70: 2430\n",
      "Day 71: 2560\n",
      "Day 72: 2627\n",
      "Day 73: 2700\n",
      "Day 74: 2706\n",
      "Day 75: 2734\n",
      "Day 76: 2691\n",
      "Day 77: 2829\n",
      "Day 78: 2918\n",
      "Day 79: 2936\n",
      "Day 80: 2968\n",
      "Day 81: 3002\n",
      "Day 82: 3173\n",
      "Day 83: 3122\n",
      "Day 84: 3124\n",
      "Day 85: 3138\n",
      "Day 86: 3248\n",
      "Day 87: 3271\n",
      "Day 88: 3408\n",
      "Day 89: 3468\n",
      "Day 90: 3504\n",
      "Day 91: 3546\n",
      "Day 92: 3672\n",
      "Day 93: 3552\n",
      "Day 94: 3769\n",
      "Day 95: 3685\n",
      "Day 96: 3872\n",
      "Day 97: 3703\n",
      "Day 98: 4031\n",
      "Day 99: 4052\n",
      "Day 100: 4214\n"
     ]
    }
   ],
   "source": [
    "black = set()\n",
    "with open(\"day24.txt\") as d:\n",
    "    for line in d:\n",
    "        t = tile(line.strip())\n",
    "        if t in black:\n",
    "            black.remove(t)\n",
    "        else:\n",
    "            black.add(t)\n",
    "            \n",
    "neighbor_steps = list(zip(*directions))[1]\n",
    "\n",
    "def neighbors(t):\n",
    "    x, y = t\n",
    "    for dx, dy in neighbor_steps:\n",
    "        yield (x+dx, y+dy)\n",
    "\n",
    "def blacks(t):\n",
    "    blacks = 0\n",
    "    for n in neighbors(t):\n",
    "        if n in black:\n",
    "            blacks += 1\n",
    "    return blacks\n",
    "        \n",
    "for i in range(100):\n",
    "    print(f\"Day {i}: {len(black)}\")\n",
    "    next_black = set()\n",
    "    for b in black:\n",
    "        if 0 < blacks(b) <= 2:\n",
    "            next_black.add(b)\n",
    "        \n",
    "        for n in neighbors(b):\n",
    "            if n not in black:\n",
    "                if blacks(n) == 2:\n",
    "                    next_black.add(n)\n",
    "    black = next_black\n",
    "print(f\"Day 100: {len(black)}\")"
   ]
  },
  {
   "cell_type": "code",
   "execution_count": 27,
   "metadata": {
    "execution": {
     "iopub.execute_input": "2020-12-25T12:06:46.735719Z",
     "iopub.status.busy": "2020-12-25T12:06:46.734886Z",
     "iopub.status.idle": "2020-12-25T12:06:46.747735Z",
     "shell.execute_reply": "2020-12-25T12:06:46.745470Z",
     "shell.execute_reply.started": "2020-12-25T12:06:46.735640Z"
    }
   },
   "outputs": [
    {
     "data": {
      "text/plain": [
       "set()"
      ]
     },
     "execution_count": 27,
     "metadata": {},
     "output_type": "execute_result"
    }
   ],
   "source": [
    "black"
   ]
  },
  {
   "cell_type": "code",
   "execution_count": null,
   "metadata": {},
   "outputs": [],
   "source": []
  }
 ],
 "metadata": {
  "kernelspec": {
   "display_name": "Python 3",
   "language": "python",
   "name": "python3"
  },
  "language_info": {
   "codemirror_mode": {
    "name": "ipython",
    "version": 3
   },
   "file_extension": ".py",
   "mimetype": "text/x-python",
   "name": "python",
   "nbconvert_exporter": "python",
   "pygments_lexer": "ipython3",
   "version": "3.8.5"
  }
 },
 "nbformat": 4,
 "nbformat_minor": 4
}
