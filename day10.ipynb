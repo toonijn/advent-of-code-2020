{
 "cells": [
  {
   "cell_type": "code",
   "execution_count": 52,
   "metadata": {
    "execution": {
     "iopub.execute_input": "2020-12-16T10:22:51.868112Z",
     "iopub.status.busy": "2020-12-16T10:22:51.867746Z",
     "iopub.status.idle": "2020-12-16T10:22:51.873625Z",
     "shell.execute_reply": "2020-12-16T10:22:51.872249Z",
     "shell.execute_reply.started": "2020-12-16T10:22:51.868082Z"
    }
   },
   "outputs": [],
   "source": [
    "with open(\"day10.txt\") as d:\n",
    "    # d = \"28\\n33\\n18\\n42\\n31\\n14\\n46\\n20\\n48\\n47\\n24\\n23\\n49\\n45\\n19\\n38\\n39\\n11\\n1\\n32\\n25\\n35\\n8\\n17\\n7\\n9\\n4\\n2\\n34\\n10\\n3\".split(\"\\n\")\n",
    "    # d = \"16\\n10\\n15\\n5\\n1\\n11\\n7\\n19\\n6\\n12\\n4\".split(\"\\n\")\n",
    "    adapters = list(map(int, d))\n",
    "adapters.append(max(adapters)+3)\n",
    "adapters.append(0)\n",
    "adapters.sort()"
   ]
  },
  {
   "cell_type": "code",
   "execution_count": 53,
   "metadata": {
    "execution": {
     "iopub.execute_input": "2020-12-16T10:22:52.216555Z",
     "iopub.status.busy": "2020-12-16T10:22:52.215400Z",
     "iopub.status.idle": "2020-12-16T10:22:52.234630Z",
     "shell.execute_reply": "2020-12-16T10:22:52.232015Z",
     "shell.execute_reply.started": "2020-12-16T10:22:52.216431Z"
    }
   },
   "outputs": [
    {
     "data": {
      "text/plain": [
       "2048"
      ]
     },
     "execution_count": 53,
     "metadata": {},
     "output_type": "execute_result"
    }
   ],
   "source": [
    "import numpy as np\n",
    "\n",
    "diffs = list(np.diff(adapters))\n",
    "diffs.count(1)*diffs.count(3)"
   ]
  },
  {
   "cell_type": "code",
   "execution_count": 54,
   "metadata": {
    "execution": {
     "iopub.execute_input": "2020-12-16T10:22:52.970313Z",
     "iopub.status.busy": "2020-12-16T10:22:52.969335Z",
     "iopub.status.idle": "2020-12-16T10:22:52.987685Z",
     "shell.execute_reply": "2020-12-16T10:22:52.984487Z",
     "shell.execute_reply.started": "2020-12-16T10:22:52.970221Z"
    }
   },
   "outputs": [],
   "source": [
    "cache = [-1] * len(adapters)\n",
    "cache[-1] = 1\n",
    "\n",
    "def arrangement_after(i):\n",
    "    if i >= len(adapters):\n",
    "        return 0\n",
    "    if cache[i] >= 0:\n",
    "        return cache[i]\n",
    "    \n",
    "    total = 0\n",
    "    j = i+1\n",
    "    while j < len(adapters) and adapters[j] - adapters[i] <= 3:\n",
    "        total += arrangement_after(j)\n",
    "        j += 1\n",
    "    cache[i] = total\n",
    "    return total"
   ]
  },
  {
   "cell_type": "code",
   "execution_count": 55,
   "metadata": {
    "execution": {
     "iopub.execute_input": "2020-12-16T10:22:53.582991Z",
     "iopub.status.busy": "2020-12-16T10:22:53.581977Z",
     "iopub.status.idle": "2020-12-16T10:22:53.599868Z",
     "shell.execute_reply": "2020-12-16T10:22:53.596249Z",
     "shell.execute_reply.started": "2020-12-16T10:22:53.582850Z"
    }
   },
   "outputs": [
    {
     "data": {
      "text/plain": [
       "1322306994176"
      ]
     },
     "execution_count": 55,
     "metadata": {},
     "output_type": "execute_result"
    }
   ],
   "source": [
    "arrangement_after(0)"
   ]
  },
  {
   "cell_type": "code",
   "execution_count": null,
   "metadata": {},
   "outputs": [],
   "source": []
  }
 ],
 "metadata": {
  "kernelspec": {
   "display_name": "Python 3",
   "language": "python",
   "name": "python3"
  },
  "language_info": {
   "codemirror_mode": {
    "name": "ipython",
    "version": 3
   },
   "file_extension": ".py",
   "mimetype": "text/x-python",
   "name": "python",
   "nbconvert_exporter": "python",
   "pygments_lexer": "ipython3",
   "version": "3.8.5"
  }
 },
 "nbformat": 4,
 "nbformat_minor": 4
}
