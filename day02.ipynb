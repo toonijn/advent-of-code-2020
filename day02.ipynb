{
 "cells": [
  {
   "cell_type": "code",
   "execution_count": 10,
   "metadata": {
    "execution": {
     "iopub.execute_input": "2020-12-14T09:40:02.707403Z",
     "iopub.status.busy": "2020-12-14T09:40:02.706271Z",
     "iopub.status.idle": "2020-12-14T09:40:02.731300Z",
     "shell.execute_reply": "2020-12-14T09:40:02.728162Z",
     "shell.execute_reply.started": "2020-12-14T09:40:02.707273Z"
    }
   },
   "outputs": [
    {
     "name": "stdout",
     "output_type": "stream",
     "text": [
      "410\n"
     ]
    }
   ],
   "source": [
    "total = 0\n",
    "\n",
    "with open(\"day2.txt\") as d:\n",
    "    for line in d:\n",
    "        c, l, p = line.strip().split(\" \")\n",
    "        l = l[:-1]\n",
    "        m, M = map(int, c.split(\"-\"))\n",
    "        if m <= p.count(l) <= M:\n",
    "            total += 1\n",
    "print(total)"
   ]
  },
  {
   "cell_type": "code",
   "execution_count": 13,
   "metadata": {
    "execution": {
     "iopub.execute_input": "2020-12-14T09:43:29.385123Z",
     "iopub.status.busy": "2020-12-14T09:43:29.384073Z",
     "iopub.status.idle": "2020-12-14T09:43:29.411521Z",
     "shell.execute_reply": "2020-12-14T09:43:29.406960Z",
     "shell.execute_reply.started": "2020-12-14T09:43:29.385008Z"
    }
   },
   "outputs": [
    {
     "name": "stdout",
     "output_type": "stream",
     "text": [
      "694\n"
     ]
    }
   ],
   "source": [
    "total = 0\n",
    "\n",
    "with open(\"day2.txt\") as d:\n",
    "    for line in d:\n",
    "        c, l, p = line.strip().split(\" \")\n",
    "        l = l[:-1]\n",
    "        m, M = map(int, c.split(\"-\"))\n",
    "        if (p[m-1] == l) != (p[M-1] == l):\n",
    "            total += 1\n",
    "print(total)"
   ]
  },
  {
   "cell_type": "code",
   "execution_count": null,
   "metadata": {},
   "outputs": [],
   "source": []
  }
 ],
 "metadata": {
  "kernelspec": {
   "display_name": "Python 3",
   "language": "python",
   "name": "python3"
  },
  "language_info": {
   "codemirror_mode": {
    "name": "ipython",
    "version": 3
   },
   "file_extension": ".py",
   "mimetype": "text/x-python",
   "name": "python",
   "nbconvert_exporter": "python",
   "pygments_lexer": "ipython3",
   "version": "3.8.5"
  }
 },
 "nbformat": 4,
 "nbformat_minor": 4
}
