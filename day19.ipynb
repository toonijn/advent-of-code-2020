{
 "cells": [
  {
   "cell_type": "code",
   "execution_count": 77,
   "metadata": {
    "execution": {
     "iopub.execute_input": "2020-12-19T09:42:49.066659Z",
     "iopub.status.busy": "2020-12-19T09:42:49.065289Z",
     "iopub.status.idle": "2020-12-19T09:42:49.116384Z",
     "shell.execute_reply": "2020-12-19T09:42:49.114151Z",
     "shell.execute_reply.started": "2020-12-19T09:42:49.066462Z"
    }
   },
   "outputs": [],
   "source": [
    "rules = {}\n",
    "messages = []\n",
    "\n",
    "with open('day19.txt') as d:\n",
    "    # d = '0: 4 1 5\\n1: 2 3 | 3 2\\n2: 4 4 | 5 5\\n3: 4 5 | 5 4\\n4: \"a\"\\n5: \"b\"\\n\\nababbb\\nbababa\\nabbbab\\naaabbb\\naaaabbb'.split('\\n')\n",
    "    # d = '42: 9 14 | 10 1\\n9: 14 27 | 1 26\\n10: 23 14 | 28 1\\n1: \"a\"\\n11: 42 31\\n5: 1 14 | 15 1\\n19: 14 1 | 14 14\\n12: 24 14 | 19 1\\n16: 15 1 | 14 14\\n31: 14 17 | 1 13\\n6: 14 14 | 1 14\\n2: 1 24 | 14 4\\n0: 8 11\\n13: 14 3 | 1 12\\n15: 1 | 14\\n17: 14 2 | 1 7\\n23: 25 1 | 22 14\\n28: 16 1\\n4: 1 1\\n20: 14 14 | 1 15\\n3: 5 14 | 16 1\\n27: 1 6 | 14 18\\n14: \"b\"\\n21: 14 1 | 1 14\\n25: 1 1 | 1 14\\n22: 14 14\\n8: 42\\n26: 14 22 | 1 20\\n18: 15 15\\n7: 14 5 | 1 21\\n24: 14 1\\n\\nabbbbbabbbaaaababbaabbbbabababbbabbbbbbabaaaa\\nbbabbbbaabaabba\\nbabbbbaabbbbbabbbbbbaabaaabaaa\\naaabbbbbbaaaabaababaabababbabaaabbababababaaa\\nbbbbbbbaaaabbbbaaabbabaaa\\nbbbababbbbaaaaaaaabbababaaababaabab\\nababaaaaaabaaab\\nababaaaaabbbaba\\nbaabbaaaabbaaaababbaababb\\nabbbbabbbbaaaababbbbbbaaaababb\\naaaaabbaabaaaaababaa\\naaaabbaaaabbaaa\\naaaabbaabbaaaaaaabbbabbbaaabbaabaaa\\nbabaaabbbaaabaababbaabababaaab\\naabbbbbaabbbaaaaaabbbbbababaaaaabbaaabba'.split('\\n')\n",
    "    for l in d:\n",
    "        if ':' in l:\n",
    "            i, rule = l.split(': ')\n",
    "            i = int(i)\n",
    "            if '\"' in rule:\n",
    "                rules[i] = rule[1]\n",
    "            else:\n",
    "                oring = []\n",
    "                for part in rule.split('|'):\n",
    "                    oring.append(tuple(map(int, part.strip().split(' '))))\n",
    "                rules[i] = oring\n",
    "        else:\n",
    "            if l.strip():\n",
    "                messages.append(l.strip())\n",
    "                \n",
    "rules[8] = [(42, ), (42, 8)]\n",
    "rules[11] = [(42, 31), (42, 11, 31)]"
   ]
  },
  {
   "cell_type": "code",
   "execution_count": 78,
   "metadata": {
    "execution": {
     "iopub.execute_input": "2020-12-19T09:42:49.489505Z",
     "iopub.status.busy": "2020-12-19T09:42:49.488267Z",
     "iopub.status.idle": "2020-12-19T09:42:49.532813Z",
     "shell.execute_reply": "2020-12-19T09:42:49.529571Z",
     "shell.execute_reply.started": "2020-12-19T09:42:49.489302Z"
    }
   },
   "outputs": [],
   "source": [
    "def try_match(i, message):\n",
    "    if not message:\n",
    "        return []\n",
    "    rule = rules[i]\n",
    "    if isinstance(rule, str):\n",
    "        if message[0] == rule:\n",
    "            return [message[1:]]\n",
    "        else:\n",
    "            return []\n",
    "    results = []\n",
    "    for poss in rule:\n",
    "        m = [message]\n",
    "        for p in poss:\n",
    "            nm = []\n",
    "            for v in m:\n",
    "                nm += try_match(p, v)\n",
    "            m = nm\n",
    "        results += m\n",
    "    return results\n",
    "\n",
    "def does_match(i, message):\n",
    "    return '' in try_match(i, message)"
   ]
  },
  {
   "cell_type": "code",
   "execution_count": 80,
   "metadata": {
    "execution": {
     "iopub.execute_input": "2020-12-19T09:43:07.741590Z",
     "iopub.status.busy": "2020-12-19T09:43:07.740113Z",
     "iopub.status.idle": "2020-12-19T09:43:08.270464Z",
     "shell.execute_reply": "2020-12-19T09:43:08.269799Z",
     "shell.execute_reply.started": "2020-12-19T09:43:07.741380Z"
    }
   },
   "outputs": [
    {
     "name": "stdout",
     "output_type": "stream",
     "text": [
      "304\n"
     ]
    }
   ],
   "source": [
    "count = 0\n",
    "for message in messages:\n",
    "    if does_match(0, message):\n",
    "        count += 1\n",
    "print(count)"
   ]
  },
  {
   "cell_type": "code",
   "execution_count": null,
   "metadata": {},
   "outputs": [],
   "source": []
  }
 ],
 "metadata": {
  "kernelspec": {
   "display_name": "SageMath 9.1",
   "language": "sage",
   "name": "sagemath"
  },
  "language_info": {
   "codemirror_mode": {
    "name": "ipython",
    "version": 3
   },
   "file_extension": ".py",
   "mimetype": "text/x-python",
   "name": "python",
   "nbconvert_exporter": "python",
   "pygments_lexer": "ipython3",
   "version": "3.7.9"
  }
 },
 "nbformat": 4,
 "nbformat_minor": 4
}
