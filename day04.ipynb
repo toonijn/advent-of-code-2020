{
 "cells": [
  {
   "cell_type": "code",
   "execution_count": 5,
   "metadata": {
    "execution": {
     "iopub.execute_input": "2020-12-14T09:51:25.088095Z",
     "iopub.status.busy": "2020-12-14T09:51:25.085764Z",
     "iopub.status.idle": "2020-12-14T09:51:25.101102Z",
     "shell.execute_reply": "2020-12-14T09:51:25.098720Z",
     "shell.execute_reply.started": "2020-12-14T09:51:25.087872Z"
    }
   },
   "outputs": [],
   "source": [
    "with open(\"day4.txt\") as d:\n",
    "    data = d.read().split(\"\\n\\n\")"
   ]
  },
  {
   "cell_type": "code",
   "execution_count": 15,
   "metadata": {
    "execution": {
     "iopub.execute_input": "2020-12-14T09:53:55.612852Z",
     "iopub.status.busy": "2020-12-14T09:53:55.611465Z",
     "iopub.status.idle": "2020-12-14T09:53:55.646995Z",
     "shell.execute_reply": "2020-12-14T09:53:55.645241Z",
     "shell.execute_reply.started": "2020-12-14T09:53:55.612657Z"
    }
   },
   "outputs": [
    {
     "data": {
      "text/plain": [
       "264"
      ]
     },
     "execution_count": 15,
     "metadata": {},
     "output_type": "execute_result"
    }
   ],
   "source": [
    "valid = 0\n",
    "for p in data:\n",
    "    d = dict(f.split(':',1) for f in p.split())\n",
    "    keys = set(d.keys())\n",
    "    keys -= {'cid'}\n",
    "    if keys == {'byr', 'iyr', 'eyr', 'hgt', 'hcl', 'ecl', 'pid'}:\n",
    "        valid += 1\n",
    "valid"
   ]
  },
  {
   "cell_type": "code",
   "execution_count": 23,
   "metadata": {
    "execution": {
     "iopub.execute_input": "2020-12-14T10:00:11.792900Z",
     "iopub.status.busy": "2020-12-14T10:00:11.787292Z",
     "iopub.status.idle": "2020-12-14T10:00:11.867162Z",
     "shell.execute_reply": "2020-12-14T10:00:11.864177Z",
     "shell.execute_reply.started": "2020-12-14T10:00:11.792673Z"
    }
   },
   "outputs": [
    {
     "data": {
      "text/plain": [
       "224"
      ]
     },
     "execution_count": 23,
     "metadata": {},
     "output_type": "execute_result"
    }
   ],
   "source": [
    "import re\n",
    "\n",
    "valid = 0\n",
    "\n",
    "def check_height(h):\n",
    "    if h.endswith('in'):\n",
    "        return 59 <= int(h[:-2]) <= 76\n",
    "    elif h.endswith('cm'):\n",
    "        return 150 <= int(h[:-2]) <= 193\n",
    "    return False\n",
    "\n",
    "for p in data:\n",
    "    d = dict(f.split(':',1) for f in p.split())\n",
    "    \n",
    "    try:\n",
    "        if (\n",
    "            1920 <= int(d['byr']) <= 2002\n",
    "            and 2010 <= int(d['iyr']) <= 2020\n",
    "            and 2020 <= int(d['eyr']) <= 2030\n",
    "            and check_height(d['hgt'])\n",
    "            and re.match(\"^#[0-9a-f]{6}$\", d['hcl'])\n",
    "            and d['ecl'] in {\"amb\", 'blu', 'brn', 'gry', 'grn', 'hzl', 'oth'}\n",
    "            and re.match(\"^[0-9]{9}$\", d['pid'])\n",
    "        ):\n",
    "            valid += 1\n",
    "    except:\n",
    "        pass\n",
    "    \n",
    "valid"
   ]
  },
  {
   "cell_type": "code",
   "execution_count": 16,
   "metadata": {
    "execution": {
     "iopub.execute_input": "2020-12-14T09:58:00.350248Z",
     "iopub.status.busy": "2020-12-14T09:58:00.348881Z",
     "iopub.status.idle": "2020-12-14T09:58:00.359420Z",
     "shell.execute_reply": "2020-12-14T09:58:00.357171Z",
     "shell.execute_reply.started": "2020-12-14T09:58:00.350071Z"
    }
   },
   "outputs": [],
   "source": []
  },
  {
   "cell_type": "code",
   "execution_count": null,
   "metadata": {},
   "outputs": [],
   "source": []
  }
 ],
 "metadata": {
  "kernelspec": {
   "display_name": "SageMath 9.1",
   "language": "sage",
   "name": "sagemath"
  },
  "language_info": {
   "codemirror_mode": {
    "name": "ipython",
    "version": 3
   },
   "file_extension": ".py",
   "mimetype": "text/x-python",
   "name": "python",
   "nbconvert_exporter": "python",
   "pygments_lexer": "ipython3",
   "version": "3.7.9"
  }
 },
 "nbformat": 4,
 "nbformat_minor": 4
}
