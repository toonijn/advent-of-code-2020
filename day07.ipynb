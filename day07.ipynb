{
 "cells": [
  {
   "cell_type": "code",
   "execution_count": 32,
   "metadata": {
    "execution": {
     "iopub.execute_input": "2020-12-14T11:37:00.546939Z",
     "iopub.status.busy": "2020-12-14T11:37:00.545811Z",
     "iopub.status.idle": "2020-12-14T11:37:00.579789Z",
     "shell.execute_reply": "2020-12-14T11:37:00.576435Z",
     "shell.execute_reply.started": "2020-12-14T11:37:00.546810Z"
    }
   },
   "outputs": [],
   "source": [
    "rules = {}\n",
    "\n",
    "import re\n",
    "\n",
    "with open(\"day7.txt\") as d:\n",
    "    for line in d:\n",
    "        m = re.match(\n",
    "            \"^(.+) bags contain (.*).$\",\n",
    "            line)\n",
    "        col, r = m.groups()\n",
    "        \n",
    "        rules[col] = {}\n",
    "        if r != \"no other bags\":\n",
    "            for rule in r.split(\", \"):\n",
    "                g = re.match(\"^([0-9]+) (.+) bags?$\", rule).groups()\n",
    "                rules[col][g[1]] = int(g[0])\n"
   ]
  },
  {
   "cell_type": "code",
   "execution_count": 33,
   "metadata": {
    "execution": {
     "iopub.execute_input": "2020-12-14T11:37:01.046900Z",
     "iopub.status.busy": "2020-12-14T11:37:01.045585Z",
     "iopub.status.idle": "2020-12-14T11:37:01.142669Z",
     "shell.execute_reply": "2020-12-14T11:37:01.139289Z",
     "shell.execute_reply.started": "2020-12-14T11:37:01.046794Z"
    }
   },
   "outputs": [
    {
     "data": {
      "text/plain": [
       "268"
      ]
     },
     "execution_count": 33,
     "metadata": {},
     "output_type": "execute_result"
    }
   ],
   "source": [
    "may_contain = {\"shiny gold\"}\n",
    "possible = set()\n",
    "\n",
    "while may_contain:\n",
    "    col = may_contain.pop()\n",
    "    for bag, rule in rules.items():\n",
    "        if col in rule and bag not in possible:\n",
    "            may_contain.add(bag)\n",
    "            possible.add(bag)\n",
    "len(possible)"
   ]
  },
  {
   "cell_type": "code",
   "execution_count": 34,
   "metadata": {
    "execution": {
     "iopub.execute_input": "2020-12-14T11:37:01.658448Z",
     "iopub.status.busy": "2020-12-14T11:37:01.657589Z",
     "iopub.status.idle": "2020-12-14T11:37:01.674037Z",
     "shell.execute_reply": "2020-12-14T11:37:01.669848Z",
     "shell.execute_reply.started": "2020-12-14T11:37:01.658362Z"
    }
   },
   "outputs": [],
   "source": [
    "def update_m(a, b):\n",
    "    for u, v in b.items():\n",
    "        a[u] = a.get(u, 0) + v\n",
    "        \n",
    "def must_contain(col, count=1):\n",
    "    m = {i: c*count for i, c in rules[col].items()}\n",
    "    for i, c in rules[col].items():\n",
    "        update_m(m, must_contain(i, count*c))\n",
    "    return m"
   ]
  },
  {
   "cell_type": "code",
   "execution_count": 35,
   "metadata": {
    "execution": {
     "iopub.execute_input": "2020-12-14T11:37:02.294829Z",
     "iopub.status.busy": "2020-12-14T11:37:02.293509Z",
     "iopub.status.idle": "2020-12-14T11:37:02.314511Z",
     "shell.execute_reply": "2020-12-14T11:37:02.311711Z",
     "shell.execute_reply.started": "2020-12-14T11:37:02.294702Z"
    }
   },
   "outputs": [
    {
     "data": {
      "text/plain": [
       "{'dull lime': 121,\n",
       " 'pale coral': 2,\n",
       " 'wavy silver': 1,\n",
       " 'muted black': 5,\n",
       " 'dim gold': 40,\n",
       " 'vibrant bronze': 3,\n",
       " 'mirrored plum': 12,\n",
       " 'faded silver': 15,\n",
       " 'dull red': 99,\n",
       " 'muted magenta': 36,\n",
       " 'faded fuchsia': 279,\n",
       " 'dark purple': 198,\n",
       " 'clear red': 711,\n",
       " 'dark cyan': 2985,\n",
       " 'dark plum': 15,\n",
       " 'dotted plum': 75,\n",
       " 'bright tan': 60,\n",
       " 'shiny maroon': 120,\n",
       " 'light beige': 660,\n",
       " 'light white': 360,\n",
       " 'striped crimson': 1980,\n",
       " 'dotted maroon': 15,\n",
       " 'muted white': 75}"
      ]
     },
     "execution_count": 35,
     "metadata": {},
     "output_type": "execute_result"
    }
   ],
   "source": [
    "must_contain(\"shiny gold\")"
   ]
  },
  {
   "cell_type": "code",
   "execution_count": 36,
   "metadata": {
    "execution": {
     "iopub.execute_input": "2020-12-14T11:37:27.697528Z",
     "iopub.status.busy": "2020-12-14T11:37:27.696183Z",
     "iopub.status.idle": "2020-12-14T11:37:27.714406Z",
     "shell.execute_reply": "2020-12-14T11:37:27.710682Z",
     "shell.execute_reply.started": "2020-12-14T11:37:27.697398Z"
    }
   },
   "outputs": [
    {
     "data": {
      "text/plain": [
       "7867"
      ]
     },
     "execution_count": 36,
     "metadata": {},
     "output_type": "execute_result"
    }
   ],
   "source": [
    "sum(must_contain(\"shiny gold\").values())"
   ]
  },
  {
   "cell_type": "code",
   "execution_count": null,
   "metadata": {},
   "outputs": [],
   "source": []
  }
 ],
 "metadata": {
  "kernelspec": {
   "display_name": "Python 3",
   "language": "python",
   "name": "python3"
  },
  "language_info": {
   "codemirror_mode": {
    "name": "ipython",
    "version": 3
   },
   "file_extension": ".py",
   "mimetype": "text/x-python",
   "name": "python",
   "nbconvert_exporter": "python",
   "pygments_lexer": "ipython3",
   "version": "3.8.5"
  }
 },
 "nbformat": 4,
 "nbformat_minor": 4
}
