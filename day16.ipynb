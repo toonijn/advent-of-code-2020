{
 "cells": [
  {
   "cell_type": "code",
   "execution_count": 45,
   "metadata": {
    "execution": {
     "iopub.execute_input": "2020-12-16T13:17:47.936897Z",
     "iopub.status.busy": "2020-12-16T13:17:47.935694Z",
     "iopub.status.idle": "2020-12-16T13:17:47.985375Z",
     "shell.execute_reply": "2020-12-16T13:17:47.982877Z",
     "shell.execute_reply.started": "2020-12-16T13:17:47.936749Z"
    }
   },
   "outputs": [],
   "source": [
    "import re\n",
    "\n",
    "valid = set()\n",
    "\n",
    "def add_valid(a, b):\n",
    "    for i in range(a, b+1):\n",
    "        valid.add(i)\n",
    "\n",
    "tickets = []\n",
    "fields = {}\n",
    "\n",
    "with open('day16.txt') as d:\n",
    "    # d = \"class: 1-3 or 5-7\\nrow: 6-11 or 33-44\\nseat: 13-40 or 45-50\\n\\nyour ticket:\\n7,1,14\\n\\nnearby tickets:\\n7,3,47\\n40,4,50\\n55,2,20\\n38,6,12\".split(\"\\n\")\n",
    "    # d = \"class: 0-1 or 4-19\\nrow: 0-5 or 8-19\\nseat: 0-13 or 16-19\\n\\nyour ticket:\\n11,12,13\\n\\nnearby tickets:\\n3,9,18\\n15,1,5\\n5,14,9\\n\".split(\"\\n\")\n",
    "    for line in d:\n",
    "        if m := re.match(\"^([0-9A-Za-z ]+): ([0-9]+)-([0-9]+) or ([0-9]+)-([0-9]+)$\", line):\n",
    "            name = m.group(1)\n",
    "            a1, b1, a2, b2 = list(map(int, m.groups()[1:]))\n",
    "            add_valid(a1, b1)\n",
    "            add_valid(a2, b2)\n",
    "            valid_field = set()\n",
    "            for i in range(a1, b1+1):\n",
    "                valid_field.add(i)\n",
    "            for i in range(a2, b2+1):\n",
    "                valid_field.add(i)\n",
    "            fields[name] = valid_field\n",
    "        elif re.match(\n",
    "                \"^[0-9]+(,[0-9]+)*$\",\n",
    "                line):\n",
    "            tickets.append(list(map(int, line.split(\",\"))))"
   ]
  },
  {
   "cell_type": "code",
   "execution_count": 46,
   "metadata": {
    "execution": {
     "iopub.execute_input": "2020-12-16T13:17:48.405944Z",
     "iopub.status.busy": "2020-12-16T13:17:48.404928Z",
     "iopub.status.idle": "2020-12-16T13:17:48.424340Z",
     "shell.execute_reply": "2020-12-16T13:17:48.421282Z",
     "shell.execute_reply.started": "2020-12-16T13:17:48.405846Z"
    }
   },
   "outputs": [
    {
     "data": {
      "text/plain": [
       "32835"
      ]
     },
     "execution_count": 46,
     "metadata": {},
     "output_type": "execute_result"
    }
   ],
   "source": [
    "s = 0\n",
    "\n",
    "for ticket in tickets:\n",
    "    for value in ticket:\n",
    "        if value not in valid:\n",
    "            s += value\n",
    "s"
   ]
  },
  {
   "cell_type": "code",
   "execution_count": 47,
   "metadata": {
    "execution": {
     "iopub.execute_input": "2020-12-16T13:17:49.677331Z",
     "iopub.status.busy": "2020-12-16T13:17:49.676507Z",
     "iopub.status.idle": "2020-12-16T13:17:49.689396Z",
     "shell.execute_reply": "2020-12-16T13:17:49.686404Z",
     "shell.execute_reply.started": "2020-12-16T13:17:49.677250Z"
    }
   },
   "outputs": [],
   "source": [
    "valid_tickets = []\n",
    "for ticket in tickets:\n",
    "    for value in ticket:\n",
    "        if value not in valid:\n",
    "            break\n",
    "    else:\n",
    "        valid_tickets.append(ticket)"
   ]
  },
  {
   "cell_type": "code",
   "execution_count": 57,
   "metadata": {
    "execution": {
     "iopub.execute_input": "2020-12-16T13:21:57.297363Z",
     "iopub.status.busy": "2020-12-16T13:21:57.296443Z",
     "iopub.status.idle": "2020-12-16T13:21:57.367446Z",
     "shell.execute_reply": "2020-12-16T13:21:57.364208Z",
     "shell.execute_reply.started": "2020-12-16T13:21:57.297260Z"
    }
   },
   "outputs": [
    {
     "data": {
      "text/plain": [
       "['wagon',\n",
       " 'departure time',\n",
       " 'departure station',\n",
       " 'route',\n",
       " 'seat',\n",
       " 'arrival platform',\n",
       " 'departure platform',\n",
       " 'arrival track',\n",
       " 'zone',\n",
       " 'arrival location',\n",
       " 'duration',\n",
       " 'train',\n",
       " 'class',\n",
       " 'departure track',\n",
       " 'departure date',\n",
       " 'departure location',\n",
       " 'type',\n",
       " 'row',\n",
       " 'arrival station',\n",
       " 'price']"
      ]
     },
     "execution_count": 57,
     "metadata": {},
     "output_type": "execute_result"
    }
   ],
   "source": [
    "possibilities = [set(fields.keys()) for _ in range(len(tickets[0]))]\n",
    "\n",
    "\n",
    "for ticket in valid_tickets:\n",
    "    for i, value in enumerate(ticket):\n",
    "        for f, v in fields.items():\n",
    "            if value not in v:\n",
    "                possibilities[i].remove(f)\n",
    "\n",
    "found = [None]*len(possibilities)\n",
    "\n",
    "while 1 in map(len, possibilities):\n",
    "    single = None\n",
    "    for i, p in enumerate(possibilities):\n",
    "        if len(p) == 1:\n",
    "            single = p.pop()\n",
    "            found[i] = single\n",
    "    for p in possibilities:\n",
    "        p.discard(single)\n",
    "found"
   ]
  },
  {
   "cell_type": "code",
   "execution_count": 59,
   "metadata": {
    "execution": {
     "iopub.execute_input": "2020-12-16T13:22:53.668852Z",
     "iopub.status.busy": "2020-12-16T13:22:53.667897Z",
     "iopub.status.idle": "2020-12-16T13:22:53.693273Z",
     "shell.execute_reply": "2020-12-16T13:22:53.689903Z",
     "shell.execute_reply.started": "2020-12-16T13:22:53.668765Z"
    }
   },
   "outputs": [
    {
     "name": "stdout",
     "output_type": "stream",
     "text": [
      "193\n",
      "59\n",
      "61\n",
      "79\n",
      "83\n",
      "113\n"
     ]
    },
    {
     "data": {
      "text/plain": [
       "514662805187"
      ]
     },
     "execution_count": 59,
     "metadata": {},
     "output_type": "execute_result"
    }
   ],
   "source": [
    "v = 1\n",
    "for field, value in zip(found, tickets[0]):\n",
    "    if field.startswith(\"departure\"):\n",
    "        print(value)\n",
    "        v *= value\n",
    "v"
   ]
  },
  {
   "cell_type": "code",
   "execution_count": null,
   "metadata": {},
   "outputs": [],
   "source": []
  }
 ],
 "metadata": {
  "kernelspec": {
   "display_name": "Python 3",
   "language": "python",
   "name": "python3"
  },
  "language_info": {
   "codemirror_mode": {
    "name": "ipython",
    "version": 3
   },
   "file_extension": ".py",
   "mimetype": "text/x-python",
   "name": "python",
   "nbconvert_exporter": "python",
   "pygments_lexer": "ipython3",
   "version": "3.8.5"
  }
 },
 "nbformat": 4,
 "nbformat_minor": 4
}
