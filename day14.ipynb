{
 "cells": [
  {
   "cell_type": "code",
   "execution_count": 3,
   "metadata": {
    "execution": {
     "iopub.execute_input": "2020-12-16T11:10:34.426548Z",
     "iopub.status.busy": "2020-12-16T11:10:34.425285Z",
     "iopub.status.idle": "2020-12-16T11:10:34.484352Z",
     "shell.execute_reply": "2020-12-16T11:10:34.482042Z",
     "shell.execute_reply.started": "2020-12-16T11:10:34.426424Z"
    }
   },
   "outputs": [],
   "source": [
    "mask = \"X\"*36\n",
    "mem = {}\n",
    "\n",
    "def to_bin(v):\n",
    "    return ('0'*36 + bin(v)[2:])[-36:]\n",
    "\n",
    "def write(location, value):\n",
    "    if location not in mem:\n",
    "        mem[location] = [0]*36\n",
    "    loc = mem[location]\n",
    "    for i in range(36):\n",
    "        if mask[-1-i] == 'X':\n",
    "            loc[-1-i] = int(value[-1-i])\n",
    "        else:\n",
    "            loc[-1-i] = int(mask[-1-i])\n",
    "        \n",
    "import re\n",
    "\n",
    "with open(\"day14.txt\") as d:\n",
    "    # d = \"\"\"mask = XXXXXXXXXXXXXXXXXXXXXXXXXXXXX1XXXX0X\\nmem[8] = 11\\nmem[7] = 101\\nmem[8] = 0\"\"\".split('\\n')\n",
    "    for line in d:\n",
    "        lhs, rhs = map(str.strip, line.split(\"=\"))\n",
    "        if lhs == \"mask\":\n",
    "            mask = rhs\n",
    "        elif m := re.match(\"^mem\\\\[(.+)\\\\]$\", lhs):\n",
    "            location = int(m.group(1))\n",
    "            write(location, to_bin(int(rhs)))"
   ]
  },
  {
   "cell_type": "code",
   "execution_count": 4,
   "metadata": {
    "execution": {
     "iopub.execute_input": "2020-12-16T11:10:34.619353Z",
     "iopub.status.busy": "2020-12-16T11:10:34.618881Z",
     "iopub.status.idle": "2020-12-16T11:10:34.633115Z",
     "shell.execute_reply": "2020-12-16T11:10:34.632176Z",
     "shell.execute_reply.started": "2020-12-16T11:10:34.619310Z"
    }
   },
   "outputs": [
    {
     "data": {
      "text/plain": [
       "12135523360904"
      ]
     },
     "execution_count": 4,
     "metadata": {},
     "output_type": "execute_result"
    }
   ],
   "source": [
    "sum(sum(c*2**i for i, c in enumerate(value[::-1])) for value in mem.values())"
   ]
  },
  {
   "cell_type": "code",
   "execution_count": null,
   "metadata": {},
   "outputs": [],
   "source": []
  },
  {
   "cell_type": "code",
   "execution_count": 18,
   "metadata": {
    "execution": {
     "iopub.execute_input": "2020-12-16T11:18:12.333681Z",
     "iopub.status.busy": "2020-12-16T11:18:12.332850Z",
     "iopub.status.idle": "2020-12-16T11:18:13.097099Z",
     "shell.execute_reply": "2020-12-16T11:18:13.096312Z",
     "shell.execute_reply.started": "2020-12-16T11:18:12.333603Z"
    }
   },
   "outputs": [],
   "source": [
    "mask = \"0\"*36\n",
    "mem = {}\n",
    "\n",
    "def to_bin(v):\n",
    "    return ('0'*36 + bin(v)[2:])[-36:]\n",
    "\n",
    "def decode_location(l):\n",
    "    c = mask.count('X')\n",
    "    for i in range(2**c):\n",
    "        b = list(to_bin(l))\n",
    "        for j in range(36):\n",
    "            if mask[j] == '1':\n",
    "                b[j] = '1'\n",
    "            elif mask[j] == 'X':\n",
    "                b[j] = str(i%2)\n",
    "                i //= 2\n",
    "        yield int(''.join(b), 2) \n",
    "\n",
    "def write(location, value):\n",
    "    if location not in mem:\n",
    "        mem[location] = ['0']*36\n",
    "    \n",
    "    value = list(value)\n",
    "    for l in decode_location(location):\n",
    "        mem[l] = value\n",
    "    \n",
    "    \n",
    "import re\n",
    "\n",
    "with open(\"day14.txt\") as d:\n",
    "    # d = \"\"\"mask = XXXXXXXXXXXXXXXXXXXXXXXXXXXXX1XXXX0X\\nmem[8] = 11\\nmem[7] = 101\\nmem[8] = 0\"\"\".split('\\n')\n",
    "    # d = \"mask = 000000000000000000000000000000X1001X\\nmem[42] = 100\\nmask = 00000000000000000000000000000000X0XX\\nmem[26] = 1\".split(\"\\n\")\n",
    "    for line in d:\n",
    "        lhs, rhs = map(str.strip, line.split(\"=\"))\n",
    "        if lhs == \"mask\":\n",
    "            mask = rhs\n",
    "        elif m := re.match(\"^mem\\\\[(.+)\\\\]$\", lhs):\n",
    "            location = int(m.group(1))\n",
    "            write(location, to_bin(int(rhs)))"
   ]
  },
  {
   "cell_type": "code",
   "execution_count": 19,
   "metadata": {
    "execution": {
     "iopub.execute_input": "2020-12-16T11:18:13.236608Z",
     "iopub.status.busy": "2020-12-16T11:18:13.235755Z",
     "iopub.status.idle": "2020-12-16T11:18:14.725567Z",
     "shell.execute_reply": "2020-12-16T11:18:14.724787Z",
     "shell.execute_reply.started": "2020-12-16T11:18:13.236525Z"
    }
   },
   "outputs": [
    {
     "data": {
      "text/plain": [
       "2741969047858"
      ]
     },
     "execution_count": 19,
     "metadata": {},
     "output_type": "execute_result"
    }
   ],
   "source": [
    "sum(sum(c*2**i for i, c in enumerate(map(int, value[::-1]))) for value in mem.values())"
   ]
  },
  {
   "cell_type": "code",
   "execution_count": null,
   "metadata": {},
   "outputs": [],
   "source": []
  }
 ],
 "metadata": {
  "kernelspec": {
   "display_name": "Python 3",
   "language": "python",
   "name": "python3"
  },
  "language_info": {
   "codemirror_mode": {
    "name": "ipython",
    "version": 3
   },
   "file_extension": ".py",
   "mimetype": "text/x-python",
   "name": "python",
   "nbconvert_exporter": "python",
   "pygments_lexer": "ipython3",
   "version": "3.8.5"
  }
 },
 "nbformat": 4,
 "nbformat_minor": 4
}
