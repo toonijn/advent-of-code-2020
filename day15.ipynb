{
 "cells": [
  {
   "cell_type": "code",
   "execution_count": 16,
   "metadata": {
    "execution": {
     "iopub.execute_input": "2021-01-10T11:04:50.221709Z",
     "iopub.status.busy": "2021-01-10T11:04:50.220628Z",
     "iopub.status.idle": "2021-01-10T11:04:50.253092Z",
     "shell.execute_reply": "2021-01-10T11:04:50.252185Z",
     "shell.execute_reply.started": "2021-01-10T11:04:50.221597Z"
    }
   },
   "outputs": [
    {
     "name": "stdout",
     "output_type": "stream",
     "text": [
      "3\n",
      "2\n",
      "[(2, 2), (3, 1)]\n",
      "3 1\n",
      "[(1, 3), (2, 2), (3, 1)]\n",
      "4 0\n",
      "[(0, 4), (1, 3), (2, 2), (3, 1)]\n",
      "5 0\n",
      "[(0, 5), (1, 3), (2, 2), (3, 1)]\n",
      "6 1\n",
      "[(0, 5), (1, 6), (2, 2), (3, 1)]\n",
      "7 3\n",
      "[(0, 5), (1, 6), (2, 2), (3, 7)]\n",
      "8 6\n",
      "[(0, 5), (1, 6), (2, 2), (3, 7), (6, 8)]\n",
      "9 0\n",
      "[(0, 9), (1, 6), (2, 2), (3, 7), (6, 8)]\n",
      "4\n"
     ]
    }
   ],
   "source": [
    "input_0 = [8,13,1,0,18,9] # todo\n",
    "input_1 = [3,2,1] # 438\n",
    "\n",
    "n = 10 # 30000000\n",
    "\n",
    "input_data = input_1\n",
    "\n",
    "last_spoken = {}\n",
    "turn = 1\n",
    "for i in input_data[:-1]:\n",
    "    print(i)\n",
    "    last_spoken[i] = turn\n",
    "    turn += 1\n",
    "\n",
    "\n",
    "next_number = input_data[-1]\n",
    "while turn < n:\n",
    "    print(sorted(last_spoken.items()))\n",
    "    print(turn, next_number)\n",
    "    number = next_number\n",
    "    next_number = turn - last_spoken.get(number, turn)\n",
    "    last_spoken[number] = turn\n",
    "    turn += 1\n",
    "    \n",
    "print(sorted(last_spoken.items()))\n",
    "print(next_number)"
   ]
  },
  {
   "cell_type": "code",
   "execution_count": 17,
   "metadata": {
    "execution": {
     "iopub.execute_input": "2020-12-16T11:31:31.918290Z",
     "iopub.status.busy": "2020-12-16T11:31:31.917102Z",
     "iopub.status.idle": "2020-12-16T11:31:32.131727Z",
     "shell.execute_reply": "2020-12-16T11:31:32.130465Z",
     "shell.execute_reply.started": "2020-12-16T11:31:31.918189Z"
    }
   },
   "outputs": [
    {
     "data": {
      "text/plain": [
       "29335327"
      ]
     },
     "execution_count": 17,
     "metadata": {},
     "output_type": "execute_result"
    }
   ],
   "source": [
    "max(last_spoken)"
   ]
  },
  {
   "cell_type": "code",
   "execution_count": null,
   "metadata": {},
   "outputs": [],
   "source": []
  }
 ],
 "metadata": {
  "kernelspec": {
   "display_name": "Python 3",
   "language": "python",
   "name": "python3"
  },
  "language_info": {
   "codemirror_mode": {
    "name": "ipython",
    "version": 3
   },
   "file_extension": ".py",
   "mimetype": "text/x-python",
   "name": "python",
   "nbconvert_exporter": "python",
   "pygments_lexer": "ipython3",
   "version": "3.8.5"
  }
 },
 "nbformat": 4,
 "nbformat_minor": 4
}
