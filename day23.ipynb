{
 "cells": [
  {
   "cell_type": "code",
   "execution_count": 36,
   "metadata": {
    "execution": {
     "iopub.execute_input": "2020-12-25T10:40:49.803703Z",
     "iopub.status.busy": "2020-12-25T10:40:49.802833Z",
     "iopub.status.idle": "2020-12-25T10:40:49.823683Z",
     "shell.execute_reply": "2020-12-25T10:40:49.820383Z",
     "shell.execute_reply.started": "2020-12-25T10:40:49.803622Z"
    }
   },
   "outputs": [],
   "source": [
    "cups = list(map(int, '538914762'))\n",
    "#cups = list(map(int, '389125467'))\n",
    "m = max(cups)\n",
    "current = 0\n",
    "for _ in range(100):\n",
    "    current_value = cups[current]\n",
    "    # print('---')\n",
    "    # print(f\"cups: {cups}\\ncurrent: {current_value}\")\n",
    "    pick_up = []\n",
    "    for _ in range(3):\n",
    "        pick_up.append(cups.pop((current+1)%len(cups)))\n",
    "        current = cups.index(current_value)\n",
    "    destination_value = 1 + (current_value-2)%m\n",
    "    while destination_value not in cups:\n",
    "        destination_value = 1+(destination_value-2)%m\n",
    "    destination = cups.index(destination_value)\n",
    "    cups = cups[:destination+1] + pick_up + cups[destination+1:]\n",
    "    current = cups.index(current_value)\n",
    "    \n",
    "    # print(f\"pick up: {pick_up}\\ndestination: {destination_value}\")\n",
    "    \n",
    "    current = (current+1)%len(cups)"
   ]
  },
  {
   "cell_type": "code",
   "execution_count": 37,
   "metadata": {
    "execution": {
     "iopub.execute_input": "2020-12-25T10:40:50.633124Z",
     "iopub.status.busy": "2020-12-25T10:40:50.631872Z",
     "iopub.status.idle": "2020-12-25T10:40:50.648573Z",
     "shell.execute_reply": "2020-12-25T10:40:50.645348Z",
     "shell.execute_reply.started": "2020-12-25T10:40:50.632988Z"
    }
   },
   "outputs": [
    {
     "name": "stdout",
     "output_type": "stream",
     "text": [
      "54327968\n"
     ]
    }
   ],
   "source": [
    "one = cups.index(1)\n",
    "print(''.join(map(str, cups[one+1:] + cups[:one])))"
   ]
  },
  {
   "cell_type": "code",
   "execution_count": 107,
   "metadata": {
    "execution": {
     "iopub.execute_input": "2020-12-25T11:32:05.142827Z",
     "iopub.status.busy": "2020-12-25T11:32:05.141501Z",
     "iopub.status.idle": "2020-12-25T11:32:05.190272Z",
     "shell.execute_reply": "2020-12-25T11:32:05.187916Z",
     "shell.execute_reply.started": "2020-12-25T11:32:05.142701Z"
    }
   },
   "outputs": [],
   "source": [
    "class DoublyLinkedIterator:\n",
    "    def __init__(self, start, values=True):\n",
    "        self.start = start\n",
    "        self.current = start\n",
    "        self.started = False\n",
    "        self.values = values\n",
    "    \n",
    "    def __next__(self):\n",
    "        if self.current is None or (self.started and self.current == self.start):\n",
    "            raise StopIteration\n",
    "        self.started = True\n",
    "        v = self.current.value if self.values else self.current\n",
    "        self.current = self.current._next\n",
    "        return v\n",
    "\n",
    "class DoublyLinkedNodesIterable:\n",
    "    def __init__(self, node):\n",
    "        self.node = node\n",
    "    \n",
    "    def __iter__(self):\n",
    "        return DoublyLinkedIterator(self.node, False)\n",
    "    \n",
    "class DoublyLinkedNode:\n",
    "    def __init__(self, value):\n",
    "        self.value = value\n",
    "        self._prev = None\n",
    "        self._next = None\n",
    "    \n",
    "    def __iter__(self):\n",
    "        return DoublyLinkedIterator(self)\n",
    "    \n",
    "    def __str__(self):\n",
    "        return f\"({' -> '.join(map(str, self))})\"\n",
    "    \n",
    "    def __repr__(self):\n",
    "        return f\"DoublyLinkedNode{self}\"\n",
    "    \n",
    "    def set_next(self, n):\n",
    "        old_next = self._next\n",
    "        if old_next is not None:\n",
    "            self._next = None\n",
    "            old_next.set_prev(None)\n",
    "        if n is not None:\n",
    "            n.set_prev(None)\n",
    "            n._prev = self\n",
    "        self._next = n\n",
    "    \n",
    "    def set_prev(self, p):\n",
    "        old_prev = self._prev\n",
    "        if old_prev is not None:\n",
    "            self._prev = None\n",
    "            old_prev.set_next(None)\n",
    "        if p is not None:\n",
    "            p.set_next(None)\n",
    "            p._next = self\n",
    "        self._prev = p\n",
    "    \n",
    "    def __getitem__(self, i):\n",
    "        a = self\n",
    "        if i < 0:\n",
    "            for _ in range(-i):\n",
    "                a = a._prev\n",
    "        elif i > 0:\n",
    "            for _ in range(i):\n",
    "                a = a._next\n",
    "        return a\n",
    "    \n",
    "    def pop(self, f, t=None):\n",
    "        if t is None:\n",
    "            t = 0\n",
    "        else:\n",
    "            t -= f + 1\n",
    "        a = self[f]\n",
    "        prev = a._prev\n",
    "        a.set_prev(None)\n",
    "        last = a[t]\n",
    "        if prev is not None:\n",
    "            prev.set_next(last._next)\n",
    "        else:\n",
    "            last.set_next(None)\n",
    "        return a\n",
    "    \n",
    "    def nodes(self):\n",
    "        return DoublyLinkedNodesIterable(self)\n",
    "    \n",
    "    def insert_after(self, value):\n",
    "        assert value != self, \"can't insert a containing element\"\n",
    "        n = self._next\n",
    "        self.set_next(value)\n",
    "        if n is not None:\n",
    "            c = value\n",
    "            while c._next is not None:\n",
    "                c = c._next\n",
    "                assert c != self, \"can't insert a containing element (state corrupted)\"\n",
    "            c.set_next(n)\n",
    "            \n",
    "    def __contains__(self, value):\n",
    "        if isinstance(value, DoublyLinkedNode):\n",
    "            value = value.value\n",
    "        for v in self:\n",
    "            if v == value:\n",
    "                return True\n",
    "        return False"
   ]
  },
  {
   "cell_type": "code",
   "execution_count": 119,
   "metadata": {
    "execution": {
     "iopub.execute_input": "2020-12-25T11:44:14.564246Z",
     "iopub.status.busy": "2020-12-25T11:44:14.562988Z",
     "iopub.status.idle": "2020-12-25T11:45:53.557244Z",
     "shell.execute_reply": "2020-12-25T11:45:53.556292Z",
     "shell.execute_reply.started": "2020-12-25T11:44:14.564123Z"
    }
   },
   "outputs": [
    {
     "name": "stdout",
     "output_type": "stream",
     "text": [
      "0\n",
      "1000000\n",
      "2000000\n",
      "3000000\n",
      "4000000\n",
      "5000000\n",
      "6000000\n",
      "7000000\n",
      "8000000\n",
      "9000000\n",
      "870999 180724 157410423276\n"
     ]
    }
   ],
   "source": [
    "cups = list(map(int, '538914762'))\n",
    "\n",
    "current = DoublyLinkedNode(cups[0])\n",
    "prev = current\n",
    "for v in cups[1:]:\n",
    "    a = DoublyLinkedNode(v)\n",
    "    prev.set_next(a)\n",
    "    prev = a\n",
    "    \n",
    "v = max(cups)\n",
    "for v in range(len(cups), 1000000):\n",
    "    v += 1\n",
    "    a = DoublyLinkedNode(v)\n",
    "    prev.set_next(a)\n",
    "    prev = a\n",
    "\n",
    "prev.set_next(current)\n",
    "    \n",
    "nodes = {}\n",
    "for n in current.nodes():\n",
    "    nodes[n.value] = n\n",
    "\n",
    "m = max(nodes)\n",
    "\n",
    "for i in range(10000000):\n",
    "    if i % 1000000 == 0:\n",
    "        print(i)\n",
    "    # print(\"---\")\n",
    "    # print(current)\n",
    "    pick_up = current.pop(1, 4)\n",
    "    # print(pick_up)\n",
    "    destination_value = 1+(current.value - 2)%m\n",
    "    while destination_value in pick_up:\n",
    "        destination_value = 1+(destination_value - 2)%m\n",
    "    nodes[destination_value].insert_after(pick_up)\n",
    "    current = current._next\n",
    "    \n",
    "a = nodes[1][1].value\n",
    "b = nodes[1][2].value\n",
    "print(a, b, a*b)"
   ]
  },
  {
   "cell_type": "code",
   "execution_count": null,
   "metadata": {},
   "outputs": [],
   "source": []
  }
 ],
 "metadata": {
  "kernelspec": {
   "display_name": "Python 3",
   "language": "python",
   "name": "python3"
  },
  "language_info": {
   "codemirror_mode": {
    "name": "ipython",
    "version": 3
   },
   "file_extension": ".py",
   "mimetype": "text/x-python",
   "name": "python",
   "nbconvert_exporter": "python",
   "pygments_lexer": "ipython3",
   "version": "3.8.5"
  }
 },
 "nbformat": 4,
 "nbformat_minor": 4
}
