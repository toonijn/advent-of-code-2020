{
 "cells": [
  {
   "cell_type": "code",
   "execution_count": 3,
   "metadata": {
    "execution": {
     "iopub.execute_input": "2020-12-14T10:04:34.292924Z",
     "iopub.status.busy": "2020-12-14T10:04:34.292610Z",
     "iopub.status.idle": "2020-12-14T10:04:34.299048Z",
     "shell.execute_reply": "2020-12-14T10:04:34.298065Z",
     "shell.execute_reply.started": "2020-12-14T10:04:34.292894Z"
    }
   },
   "outputs": [],
   "source": [
    "with open(\"day5.txt\") as d:\n",
    "    seats = []\n",
    "    for line in d:\n",
    "        seats.append((\n",
    "            int(line[:7].replace(\"F\", '0').replace(\"B\", '1'), 2),\n",
    "            int(line[7:10].replace(\"R\", '1').replace(\"L\", '0'), 2)\n",
    "        ))\n",
    "        "
   ]
  },
  {
   "cell_type": "code",
   "execution_count": 5,
   "metadata": {
    "execution": {
     "iopub.execute_input": "2020-12-14T10:04:57.076149Z",
     "iopub.status.busy": "2020-12-14T10:04:57.075125Z",
     "iopub.status.idle": "2020-12-14T10:04:57.090699Z",
     "shell.execute_reply": "2020-12-14T10:04:57.086997Z",
     "shell.execute_reply.started": "2020-12-14T10:04:57.076061Z"
    }
   },
   "outputs": [
    {
     "data": {
      "text/plain": [
       "915"
      ]
     },
     "execution_count": 5,
     "metadata": {},
     "output_type": "execute_result"
    }
   ],
   "source": [
    "max(8*r+c for r, c in seats)"
   ]
  },
  {
   "cell_type": "code",
   "execution_count": 9,
   "metadata": {
    "execution": {
     "iopub.execute_input": "2020-12-14T10:06:21.429526Z",
     "iopub.status.busy": "2020-12-14T10:06:21.428988Z",
     "iopub.status.idle": "2020-12-14T10:06:21.439708Z",
     "shell.execute_reply": "2020-12-14T10:06:21.437911Z",
     "shell.execute_reply.started": "2020-12-14T10:06:21.429473Z"
    }
   },
   "outputs": [
    {
     "name": "stdout",
     "output_type": "stream",
     "text": [
      "698 700\n"
     ]
    }
   ],
   "source": [
    "ids = sorted(list(8*r+c for r, c in seats))\n",
    "for a, b in zip(ids, ids[1:]):\n",
    "    if a + 1 != b:\n",
    "        print(a, b)"
   ]
  },
  {
   "cell_type": "code",
   "execution_count": null,
   "metadata": {},
   "outputs": [],
   "source": []
  }
 ],
 "metadata": {
  "kernelspec": {
   "display_name": "Python 3",
   "language": "python",
   "name": "python3"
  },
  "language_info": {
   "codemirror_mode": {
    "name": "ipython",
    "version": 3
   },
   "file_extension": ".py",
   "mimetype": "text/x-python",
   "name": "python",
   "nbconvert_exporter": "python",
   "pygments_lexer": "ipython3",
   "version": "3.8.5"
  }
 },
 "nbformat": 4,
 "nbformat_minor": 4
}
