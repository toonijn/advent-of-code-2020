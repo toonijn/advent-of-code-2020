{
 "cells": [
  {
   "cell_type": "code",
   "execution_count": 1,
   "metadata": {
    "execution": {
     "iopub.execute_input": "2020-12-14T12:13:27.215386Z",
     "iopub.status.busy": "2020-12-14T12:13:27.214923Z",
     "iopub.status.idle": "2020-12-14T12:13:27.222908Z",
     "shell.execute_reply": "2020-12-14T12:13:27.221373Z",
     "shell.execute_reply.started": "2020-12-14T12:13:27.215283Z"
    }
   },
   "outputs": [],
   "source": [
    "instructions = []\n",
    "\n",
    "with open(\"day8.txt\") as d:\n",
    "    for line in d:\n",
    "        i, a = line.strip().split(\" \")\n",
    "        instructions.append((i, int(a)))"
   ]
  },
  {
   "cell_type": "code",
   "execution_count": 3,
   "metadata": {
    "execution": {
     "iopub.execute_input": "2020-12-14T12:17:05.565588Z",
     "iopub.status.busy": "2020-12-14T12:17:05.564491Z",
     "iopub.status.idle": "2020-12-14T12:17:05.582065Z",
     "shell.execute_reply": "2020-12-14T12:17:05.579004Z",
     "shell.execute_reply.started": "2020-12-14T12:17:05.565482Z"
    }
   },
   "outputs": [
    {
     "name": "stdout",
     "output_type": "stream",
     "text": [
      "Looping\n",
      "2025\n"
     ]
    }
   ],
   "source": [
    "acc = 0\n",
    "iptr = 0\n",
    "run = set()\n",
    "\n",
    "while True:\n",
    "    if not 0 <= iptr < len(instructions):\n",
    "        print(\"No instruction found\")\n",
    "        break\n",
    "    if iptr in run:\n",
    "        print(\"Looping\")\n",
    "        break\n",
    "    run.add(iptr)\n",
    "    \n",
    "    i, a = instructions[iptr]\n",
    "    \n",
    "    if i == \"acc\":\n",
    "        acc += a\n",
    "        iptr += 1\n",
    "    elif i == \"nop\":\n",
    "        iptr += 1\n",
    "    elif i == \"jmp\":\n",
    "        iptr += a\n",
    "    else:\n",
    "        print(f\"Unknown instruction: {i} {a}\")\n",
    "    \n",
    "print(acc)    "
   ]
  },
  {
   "cell_type": "code",
   "execution_count": 4,
   "metadata": {
    "execution": {
     "iopub.execute_input": "2020-12-14T12:19:06.208584Z",
     "iopub.status.busy": "2020-12-14T12:19:06.207495Z",
     "iopub.status.idle": "2020-12-14T12:19:06.228162Z",
     "shell.execute_reply": "2020-12-14T12:19:06.224441Z",
     "shell.execute_reply.started": "2020-12-14T12:19:06.208499Z"
    }
   },
   "outputs": [],
   "source": [
    "def run(instructions):\n",
    "    acc = 0\n",
    "    iptr = 0\n",
    "    run = set()\n",
    "    cause = None\n",
    "    \n",
    "    while True:\n",
    "        if not 0 <= iptr < len(instructions):\n",
    "            cause = \"stop\"\n",
    "            break\n",
    "        if iptr in run:\n",
    "            cause = \"loop\"\n",
    "            break\n",
    "        run.add(iptr)\n",
    "\n",
    "        i, a = instructions[iptr]\n",
    "\n",
    "        if i == \"acc\":\n",
    "            acc += a\n",
    "            iptr += 1\n",
    "        elif i == \"nop\":\n",
    "            iptr += 1\n",
    "        elif i == \"jmp\":\n",
    "            iptr += a\n",
    "        else:\n",
    "            print(f\"Unknown instruction: {i} {a}\")\n",
    "    \n",
    "    return acc, cause"
   ]
  },
  {
   "cell_type": "code",
   "execution_count": 6,
   "metadata": {
    "execution": {
     "iopub.execute_input": "2020-12-14T12:21:29.290222Z",
     "iopub.status.busy": "2020-12-14T12:21:29.288898Z",
     "iopub.status.idle": "2020-12-14T12:21:29.381559Z",
     "shell.execute_reply": "2020-12-14T12:21:29.379606Z",
     "shell.execute_reply.started": "2020-12-14T12:21:29.290100Z"
    }
   },
   "outputs": [
    {
     "name": "stdout",
     "output_type": "stream",
     "text": [
      "2001\n"
     ]
    }
   ],
   "source": [
    "for i in range(len(instructions)):\n",
    "    inst, arg = instructions[i]\n",
    "    new_inst = \"jmp\" if inst == \"nop\" else \"nop\" if inst == \"jmp\" else inst\n",
    "    if inst != new_inst:\n",
    "        result, cause = run(instructions[:i] + [(new_inst, arg)] + instructions[i+1:])\n",
    "        if cause == \"stop\":\n",
    "            print(result)"
   ]
  },
  {
   "cell_type": "code",
   "execution_count": null,
   "metadata": {},
   "outputs": [],
   "source": []
  }
 ],
 "metadata": {
  "kernelspec": {
   "display_name": "Python 3",
   "language": "python",
   "name": "python3"
  },
  "language_info": {
   "codemirror_mode": {
    "name": "ipython",
    "version": 3
   },
   "file_extension": ".py",
   "mimetype": "text/x-python",
   "name": "python",
   "nbconvert_exporter": "python",
   "pygments_lexer": "ipython3",
   "version": "3.8.5"
  }
 },
 "nbformat": 4,
 "nbformat_minor": 4
}
