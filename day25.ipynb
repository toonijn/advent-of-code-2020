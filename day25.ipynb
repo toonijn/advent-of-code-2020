{
 "cells": [
  {
   "cell_type": "code",
   "execution_count": 26,
   "metadata": {
    "execution": {
     "iopub.execute_input": "2020-12-25T12:23:36.176413Z",
     "iopub.status.busy": "2020-12-25T12:23:36.175343Z",
     "iopub.status.idle": "2020-12-25T12:23:40.051018Z",
     "shell.execute_reply": "2020-12-25T12:23:40.050279Z",
     "shell.execute_reply.started": "2020-12-25T12:23:36.176330Z"
    }
   },
   "outputs": [
    {
     "data": {
      "text/plain": [
       "1478097"
      ]
     },
     "execution_count": 26,
     "metadata": {},
     "output_type": "execute_result"
    }
   ],
   "source": [
    "def find_loop(x):\n",
    "    subject = 7\n",
    "    i = 0\n",
    "    value = 1\n",
    "    while value != x:\n",
    "        i += 1\n",
    "        value *= subject\n",
    "        value %= 20201227\n",
    "    return i\n",
    "\n",
    "def transform(n, subject=7):\n",
    "    value = 1\n",
    "    for _ in range(n):\n",
    "        value *= subject\n",
    "        value %= 20201227\n",
    "    return value\n",
    "\n",
    "card, door = 5764801, 17807724\n",
    "card, door = 9232416, 14144084\n",
    "\n",
    "transform(find_loop(door), card)"
   ]
  },
  {
   "cell_type": "code",
   "execution_count": 25,
   "metadata": {
    "execution": {
     "iopub.execute_input": "2020-12-25T12:23:31.865456Z",
     "iopub.status.busy": "2020-12-25T12:23:31.864175Z",
     "iopub.status.idle": "2020-12-25T12:23:31.882522Z",
     "shell.execute_reply": "2020-12-25T12:23:31.879189Z",
     "shell.execute_reply.started": "2020-12-25T12:23:31.865342Z"
    }
   },
   "outputs": [
    {
     "data": {
      "text/plain": [
       "14897079"
      ]
     },
     "execution_count": 25,
     "metadata": {},
     "output_type": "execute_result"
    }
   ],
   "source": [
    "transform(find_loop(card), door)"
   ]
  },
  {
   "cell_type": "code",
   "execution_count": null,
   "metadata": {},
   "outputs": [],
   "source": []
  }
 ],
 "metadata": {
  "kernelspec": {
   "display_name": "Python 3",
   "language": "python",
   "name": "python3"
  },
  "language_info": {
   "codemirror_mode": {
    "name": "ipython",
    "version": 3
   },
   "file_extension": ".py",
   "mimetype": "text/x-python",
   "name": "python",
   "nbconvert_exporter": "python",
   "pygments_lexer": "ipython3",
   "version": "3.8.5"
  }
 },
 "nbformat": 4,
 "nbformat_minor": 4
}
