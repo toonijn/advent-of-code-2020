{
 "cells": [
  {
   "cell_type": "code",
   "execution_count": 3,
   "metadata": {
    "execution": {
     "iopub.execute_input": "2020-12-16T10:03:38.887512Z",
     "iopub.status.busy": "2020-12-16T10:03:38.886181Z",
     "iopub.status.idle": "2020-12-16T10:03:38.986235Z",
     "shell.execute_reply": "2020-12-16T10:03:38.984173Z",
     "shell.execute_reply.started": "2020-12-16T10:03:38.887383Z"
    }
   },
   "outputs": [
    {
     "name": "stdout",
     "output_type": "stream",
     "text": [
      "776203571\n"
     ]
    }
   ],
   "source": [
    "numbers = []\n",
    "\n",
    "def is_sum(n, numbers):\n",
    "    for a in numbers:\n",
    "        for b in numbers:\n",
    "            if a + b == n:\n",
    "                return True\n",
    "    return False\n",
    "\n",
    "i = 0\n",
    "with open(\"day09.txt\") as d:\n",
    "    for l in d:\n",
    "        n = int(l)\n",
    "        if len(numbers) < 25:\n",
    "            numbers.append(n)\n",
    "        else:\n",
    "            if not is_sum(n, numbers):\n",
    "                print(n)\n",
    "            numbers[i%len(numbers)] = n\n",
    "        i += 1"
   ]
  },
  {
   "cell_type": "code",
   "execution_count": 4,
   "metadata": {
    "execution": {
     "iopub.execute_input": "2020-12-16T10:03:43.374432Z",
     "iopub.status.busy": "2020-12-16T10:03:43.373470Z",
     "iopub.status.idle": "2020-12-16T10:03:43.387013Z",
     "shell.execute_reply": "2020-12-16T10:03:43.384229Z",
     "shell.execute_reply.started": "2020-12-16T10:03:43.374348Z"
    }
   },
   "outputs": [],
   "source": [
    "data = []\n",
    "\n",
    "with open(\"day09.txt\") as d:\n",
    "    for l in d:\n",
    "        data.append(int(l))"
   ]
  },
  {
   "cell_type": "code",
   "execution_count": 7,
   "metadata": {
    "execution": {
     "iopub.execute_input": "2020-12-16T10:05:09.037599Z",
     "iopub.status.busy": "2020-12-16T10:05:09.036736Z",
     "iopub.status.idle": "2020-12-16T10:05:09.230699Z",
     "shell.execute_reply": "2020-12-16T10:05:09.229920Z",
     "shell.execute_reply.started": "2020-12-16T10:05:09.037500Z"
    }
   },
   "outputs": [
    {
     "name": "stdout",
     "output_type": "stream",
     "text": [
      "516 532\n"
     ]
    }
   ],
   "source": [
    "for start in range(len(data) - 1):\n",
    "    s = data[start]\n",
    "    for end in range(start+1, len(data)):\n",
    "        s += data[end]\n",
    "        if s == 776203571:\n",
    "            print(start, end)"
   ]
  },
  {
   "cell_type": "code",
   "execution_count": 10,
   "metadata": {
    "execution": {
     "iopub.execute_input": "2020-12-16T10:05:49.867171Z",
     "iopub.status.busy": "2020-12-16T10:05:49.865877Z",
     "iopub.status.idle": "2020-12-16T10:05:49.884490Z",
     "shell.execute_reply": "2020-12-16T10:05:49.881929Z",
     "shell.execute_reply.started": "2020-12-16T10:05:49.867048Z"
    }
   },
   "outputs": [
    {
     "data": {
      "text/plain": [
       "104800569"
      ]
     },
     "execution_count": 10,
     "metadata": {},
     "output_type": "execute_result"
    }
   ],
   "source": [
    "start, end = 516, 532\n",
    "min(data[start:end+1]) + max(data[start:end+1])"
   ]
  },
  {
   "cell_type": "code",
   "execution_count": null,
   "metadata": {},
   "outputs": [],
   "source": []
  }
 ],
 "metadata": {
  "kernelspec": {
   "display_name": "Python 3",
   "language": "python",
   "name": "python3"
  },
  "language_info": {
   "codemirror_mode": {
    "name": "ipython",
    "version": 3
   },
   "file_extension": ".py",
   "mimetype": "text/x-python",
   "name": "python",
   "nbconvert_exporter": "python",
   "pygments_lexer": "ipython3",
   "version": "3.8.5"
  }
 },
 "nbformat": 4,
 "nbformat_minor": 4
}
