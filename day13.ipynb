{
 "cells": [
  {
   "cell_type": "code",
   "execution_count": 4,
   "metadata": {
    "execution": {
     "iopub.execute_input": "2020-12-16T11:07:32.454392Z",
     "iopub.status.busy": "2020-12-16T11:07:32.453062Z",
     "iopub.status.idle": "2020-12-16T11:07:32.474539Z",
     "shell.execute_reply": "2020-12-16T11:07:32.472285Z",
     "shell.execute_reply.started": "2020-12-16T11:07:32.454165Z"
    }
   },
   "outputs": [],
   "source": [
    "with open(\"day13.txt\") as d:\n",
    "    # d = \"\"\"939\\n7,13,x,x,59,x,31,19\"\"\".split(\"\\n\")\n",
    "    departure, busses = list(d)\n",
    "    departure = int(departure)\n",
    "    busses = [bus if bus == 'x' else int(bus) for bus in busses.split(',')]\n",
    "\n",
    "busses = list(filter(lambda x: x != 'x', busses))"
   ]
  },
  {
   "cell_type": "code",
   "execution_count": 5,
   "metadata": {
    "execution": {
     "iopub.execute_input": "2020-12-16T11:07:32.766561Z",
     "iopub.status.busy": "2020-12-16T11:07:32.765114Z",
     "iopub.status.idle": "2020-12-16T11:07:32.782081Z",
     "shell.execute_reply": "2020-12-16T11:07:32.779722Z",
     "shell.execute_reply.started": "2020-12-16T11:07:32.766307Z"
    }
   },
   "outputs": [
    {
     "name": "stdout",
     "output_type": "stream",
     "text": [
      "Over 10 minuten is bus 37 er. Antwoord: 370\n"
     ]
    }
   ],
   "source": [
    "next_bus_time, next_bus_id = min(((-departure)%b, b) for b in busses)\n",
    "\n",
    "print(f\"Over {next_bus_time} minuten is bus {next_bus_id} er. Antwoord: {next_bus_time*next_bus_id}\")"
   ]
  },
  {
   "cell_type": "code",
   "execution_count": null,
   "metadata": {},
   "outputs": [],
   "source": []
  },
  {
   "cell_type": "code",
   "execution_count": 11,
   "metadata": {
    "execution": {
     "iopub.execute_input": "2020-12-16T11:08:31.837039Z",
     "iopub.status.busy": "2020-12-16T11:08:31.835912Z",
     "iopub.status.idle": "2020-12-16T11:08:31.856179Z",
     "shell.execute_reply": "2020-12-16T11:08:31.853624Z",
     "shell.execute_reply.started": "2020-12-16T11:08:31.836893Z"
    }
   },
   "outputs": [],
   "source": [
    "with open(\"day13.txt\") as d:\n",
    "    # d = \"\"\"939\\n7,13,x,x,59,x,31,19\"\"\".split(\"\\n\")\n",
    "    departure, busses = list(d)\n",
    "    departure = int(departure)\n",
    "    busses = [bus if bus == 'x' else int(bus) for bus in busses.split(',')]\n",
    "\n",
    "times, busses = list(zip(*filter(lambda x: x[1] != 'x', enumerate(busses))))"
   ]
  },
  {
   "cell_type": "code",
   "execution_count": 13,
   "metadata": {
    "execution": {
     "iopub.execute_input": "2020-12-16T11:08:57.111606Z",
     "iopub.status.busy": "2020-12-16T11:08:57.110109Z",
     "iopub.status.idle": "2020-12-16T11:08:57.129643Z",
     "shell.execute_reply": "2020-12-16T11:08:57.126565Z",
     "shell.execute_reply.started": "2020-12-16T11:08:57.111406Z"
    }
   },
   "outputs": [
    {
     "data": {
      "text/plain": [
       "894954360381385"
      ]
     },
     "execution_count": 13,
     "metadata": {},
     "output_type": "execute_result"
    }
   ],
   "source": [
    "crt([-t for t in times], list(busses))"
   ]
  },
  {
   "cell_type": "code",
   "execution_count": null,
   "metadata": {},
   "outputs": [],
   "source": []
  }
 ],
 "metadata": {
  "kernelspec": {
   "display_name": "SageMath 9.1",
   "language": "sage",
   "name": "sagemath"
  },
  "language_info": {
   "codemirror_mode": {
    "name": "ipython",
    "version": 3
   },
   "file_extension": ".py",
   "mimetype": "text/x-python",
   "name": "python",
   "nbconvert_exporter": "python",
   "pygments_lexer": "ipython3",
   "version": "3.7.9"
  }
 },
 "nbformat": 4,
 "nbformat_minor": 4
}
