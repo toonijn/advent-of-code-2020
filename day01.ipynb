{
 "cells": [
  {
   "cell_type": "code",
   "execution_count": 7,
   "metadata": {
    "execution": {
     "iopub.execute_input": "2020-12-14T09:35:32.381590Z",
     "iopub.status.busy": "2020-12-14T09:35:32.380338Z",
     "iopub.status.idle": "2020-12-14T09:35:32.397365Z",
     "shell.execute_reply": "2020-12-14T09:35:32.394005Z",
     "shell.execute_reply.started": "2020-12-14T09:35:32.381459Z"
    }
   },
   "outputs": [],
   "source": [
    "import string\n",
    "with open(\"day1.txt\") as d:\n",
    "    data = list(map(int, map(str.strip, d)))"
   ]
  },
  {
   "cell_type": "code",
   "execution_count": 8,
   "metadata": {
    "execution": {
     "iopub.execute_input": "2020-12-14T09:35:32.973536Z",
     "iopub.status.busy": "2020-12-14T09:35:32.972578Z",
     "iopub.status.idle": "2020-12-14T09:35:33.010268Z",
     "shell.execute_reply": "2020-12-14T09:35:33.006965Z",
     "shell.execute_reply.started": "2020-12-14T09:35:32.973449Z"
    }
   },
   "outputs": [
    {
     "name": "stdout",
     "output_type": "stream",
     "text": [
      "247 1773 437931\n",
      "1773 247 437931\n"
     ]
    }
   ],
   "source": [
    "for a in data:\n",
    "    for b in data:\n",
    "        if a + b == 2020:\n",
    "            print(a, b, a*b)"
   ]
  },
  {
   "cell_type": "code",
   "execution_count": 9,
   "metadata": {
    "execution": {
     "iopub.execute_input": "2020-12-14T09:35:58.534830Z",
     "iopub.status.busy": "2020-12-14T09:35:58.533654Z",
     "iopub.status.idle": "2020-12-14T09:36:00.027083Z",
     "shell.execute_reply": "2020-12-14T09:36:00.026273Z",
     "shell.execute_reply.started": "2020-12-14T09:35:58.534711Z"
    }
   },
   "outputs": [
    {
     "name": "stdout",
     "output_type": "stream",
     "text": [
      "188 936 896 157667328\n",
      "188 896 936 157667328\n",
      "936 188 896 157667328\n",
      "936 896 188 157667328\n",
      "896 188 936 157667328\n",
      "896 936 188 157667328\n"
     ]
    }
   ],
   "source": [
    "for a in data:\n",
    "    for b in data:\n",
    "        for c in data:\n",
    "            if a + b+c == 2020:\n",
    "                print(a, b, c, a*b*c)"
   ]
  },
  {
   "cell_type": "code",
   "execution_count": null,
   "metadata": {},
   "outputs": [],
   "source": []
  }
 ],
 "metadata": {
  "kernelspec": {
   "display_name": "Python 3",
   "language": "python",
   "name": "python3"
  },
  "language_info": {
   "codemirror_mode": {
    "name": "ipython",
    "version": 3
   },
   "file_extension": ".py",
   "mimetype": "text/x-python",
   "name": "python",
   "nbconvert_exporter": "python",
   "pygments_lexer": "ipython3",
   "version": "3.8.5"
  }
 },
 "nbformat": 4,
 "nbformat_minor": 4
}
